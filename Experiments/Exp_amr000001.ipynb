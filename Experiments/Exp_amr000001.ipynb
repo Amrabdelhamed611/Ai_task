{
 "cells": [
  {
   "cell_type": "markdown",
   "id": "94c579c4",
   "metadata": {},
   "source": [
    "## Import libraries"
   ]
  },
  {
   "cell_type": "code",
   "execution_count": 1,
   "id": "14cc2003",
   "metadata": {
    "ExecuteTime": {
     "end_time": "2023-02-08T13:06:11.814854Z",
     "start_time": "2023-02-08T13:06:08.485957Z"
    }
   },
   "outputs": [],
   "source": [
    "import numpy as np\n",
    "import pandas as pd\n",
    "import matplotlib.pyplot as plt\n",
    "import seaborn as sns\n",
    "import os ,shutil ,copy ,time ,gc  ,random , timm\n",
    "from sklearn.metrics import ConfusionMatrixDisplay,confusion_matrix,f1_score\n",
    "from tqdm.notebook import tqdm\n",
    "import torch ,torchinfo\n",
    "import torch.nn as nn\n",
    "import torch.nn.functional as F\n",
    "import torch.optim as optim\n",
    "from torch import utils\n",
    "from torchvision import datasets, transforms ,models\n",
    "from torch.cuda.amp import GradScaler ,autocast\n",
    "from IPython import display as ipdisplay\n",
    " \n",
    "device = torch.device(\"cuda:0\" if torch.cuda.is_available() else \"cpu\")"
   ]
  },
  {
   "cell_type": "markdown",
   "id": "80d1030d",
   "metadata": {},
   "source": [
    "## seed Everything \n",
    "For Reproducibility "
   ]
  },
  {
   "cell_type": "code",
   "execution_count": 2,
   "id": "c49c5dc1",
   "metadata": {
    "ExecuteTime": {
     "end_time": "2023-02-08T13:06:11.891885Z",
     "start_time": "2023-02-08T13:06:11.816856Z"
    },
    "code_folding": [],
    "run_control": {
     "marked": false
    }
   },
   "outputs": [],
   "source": [
    "def seed_everything(seed):\n",
    "    \"\"\"\n",
    "    Seeds basic parameters for reproductibility of results\n",
    "\n",
    "    Arguments:\n",
    "        seed {int} -- Number of the seed\n",
    "    \"\"\"\n",
    "    random.seed(seed)\n",
    "    os.environ[\"PYTHONHASHSEED\"] = str(seed)\n",
    "    np.random.seed(seed)\n",
    "    torch.manual_seed(seed)\n",
    "    torch.cuda.manual_seed(seed)\n",
    "    torch.backends.cudnn.deterministic = True\n",
    "    torch.backends.cudnn.benchmark = True\n",
    "    torch.cuda.empty_cache()\n",
    "    gc.collect()\n",
    "    torch.autograd.set_detect_anomaly(False)\n",
    "    torch.autograd.profiler.emit_nvtx(enabled=False, record_shapes=False)\n",
    "    torch.autograd.profiler.profile(enabled=False)\n",
    "seed_everything(6)"
   ]
  },
  {
   "cell_type": "code",
   "execution_count": 3,
   "id": "07bc6cb8",
   "metadata": {
    "ExecuteTime": {
     "end_time": "2023-02-08T13:06:11.906884Z",
     "start_time": "2023-02-08T13:06:11.893854Z"
    }
   },
   "outputs": [],
   "source": [
    "\n",
    "def add_Experiment(model_p, pramas,opt,lossfn,loader_v,transform_t,transform_v,comment='',warning_commet=True):\n",
    "    path= 'Experiments/'\n",
    "    sub_id=\"amr\"\n",
    "    comment = \"\"\n",
    "    if not os.path.isdir('Experiments'):\n",
    "        os.mkdir('Experiments')\n",
    "    if not os.path.isfile('Experiments/Experiments.csv'):\n",
    "        pd.DataFrame(columns=[\"Experiment_id\",\n",
    "                              \"Acc_t\",\"Acc_v\",\n",
    "                              \"Loss_t\",\"Loss_v\",\n",
    "                              \"epochs\",\"Batch\", \n",
    "                              \"time_ep(min)\",\n",
    "                              \"Model_name\",\n",
    "                              \"Model_prams\",\n",
    "                              \"pre_weights\",\n",
    "                              \"opt_Name\",\n",
    "                              \"opt_learning_rate\",\n",
    "                              \"opt_betas\",\n",
    "                              \"opt_decay\",\n",
    "                              \"lossfn_name\",\n",
    "                              \"lossfn_reduction\",\n",
    "                              \"lossfn_class_weights\",\n",
    "                              \"classes_num\",\n",
    "                              \"classes_names\",\n",
    "                              \"sampels/class\",\n",
    "                              \"Augmentation_T\",\n",
    "                              \"Augmentation_V\",\n",
    "                              \"NoteBook_file_name\",\n",
    "                              \"weights_file_name\",\n",
    "                              \"fig_file_name\",\n",
    "                              \"comment\"]).to_csv(path+'Experiments.csv',index= False)\n",
    "        \n",
    "    \n",
    "    if warning_commet:\n",
    "        comment = input('if you dont pass comment you can write one or interrupt the kernal. ')\n",
    "    \n",
    "    df= pd.read_csv(path+'Experiments.csv')\n",
    "    exp_id=sub_id+f\"{len(df):06}\"\n",
    "    ep= model_p.history['Validation_Accuracy'].argmax()\n",
    "    loss_t , acc_t,loss_v,acc_v,_= model_p.history.iloc[ep,:]\n",
    "    ep_time= model_p.history['epoch_time'].mean()/60\n",
    "    m= ModeL(pramas['n_classes']).to(device) \n",
    "    m.Load_Weights('Best_model_on_valdtion.pt')\n",
    "    fig,ax= m.model_data_monitor(loader_v, lossfn)\n",
    "    ipdisplay.clear_output()\n",
    "    model_w_file= 'Exp_'+exp_id+'.pt'\n",
    "    model_fig= 'Exp_'+exp_id+'.png'\n",
    "    note_book= 'Exp_'+exp_id+'.ipynb'\n",
    "\n",
    "    exp={\"Experiment_id\":exp_id,\n",
    "         \"Acc_t\":acc_t,\n",
    "         \"Acc_v\":acc_v,\n",
    "         \"Loss_t\":loss_t,\n",
    "         \"Loss_v\":loss_v,\n",
    "         \"epochs\":ep,\n",
    "         \"Batch\":pramas['batchsize'], \n",
    "         \"time_ep(min)\": ep_time,\n",
    "         \"Model_name\":model_p.name,\n",
    "         \"Model_prams\":model_p.pramters_number,\n",
    "         \"pre_weights\":model_p.pre_trained_w,\n",
    "         \"opt_Name\":str(type(opt))[20:-2],\n",
    "         \"opt_learning_rate\":pramas['learning_rate'],\n",
    "         \"opt_betas\":pramas['betas'],\n",
    "         \"opt_decay\":pramas['weight_decay'],\n",
    "         \"lossfn_name\":str(lossfn)[:-2],\n",
    "         \"lossfn_reduction\":lossfn.reduction,\n",
    "         \"lossfn_class_weights\":lossfn.weight.tolist(),\n",
    "         \"classes_num\":pramas['n_classes'],\n",
    "         \"classes_names\":pramas['sub_classes'],\n",
    "         \"sampels/class\":pramas['samples_per_class'],\n",
    "         \"Augmentation_T\":transform_t.transforms,\n",
    "         \"Augmentation_V\":transform_v.transforms,\n",
    "         \"NoteBook_file_name\":note_book,\n",
    "         \"weights_file_name\":model_w_file,\n",
    "         \"fig_file_name\":model_fig,\n",
    "         \"comment\":comment}\n",
    "    \n",
    "    df = df.append(exp,ignore_index=True)\n",
    "    shutil.copyfile('Best_model_on_valdtion.pt',path+model_w_file)\n",
    "    shutil.copyfile('train.ipynb',path+note_book)\n",
    "    fig.savefig(path+model_fig)\n",
    "    df.to_csv(path+'Experiments.csv',index= False)\n",
    "    print(\"Experiment recorded\")\n",
    "    \n",
    "def delet_Experiment(exp_id):\n",
    "    path= 'Experiments/'\n",
    "    model_w_file=path+ 'Exp_'+exp_id+'.pt'\n",
    "    model_fig= path+'Exp_'+exp_id+'.png'\n",
    "    note_book= path+'Exp_'+exp_id+'.ipynb'\n",
    "    df= pd.read_csv(path+'Experiments.csv')\n",
    "    idx = df.loc[df['Experiment_id'] == exp_id,:].index\n",
    "    df.drop(idx,inplace=True)\n",
    "    \n",
    "    if os.path.isdir( model_w_file):\n",
    "        os.remove(model_w_file)\n",
    "        print(f'model wieght {model_w_file} deleted')\n",
    "    if os.path.isdir( model_w_file):\n",
    "        os.remove(model_fig)\n",
    "        print(f'model conf matrix {model_fig} deleted')\n",
    "    if os.path.isdir( model_w_file):\n",
    "        os.remove(note_book)\n",
    "        print(f'model Note Book {note_book} deleted')\n",
    "    df.to_csv(path+'Experiments.csv',index= False)"
   ]
  },
  {
   "cell_type": "markdown",
   "id": "93e69943",
   "metadata": {},
   "source": [
    "### Data Loader Function"
   ]
  },
  {
   "cell_type": "code",
   "execution_count": 4,
   "id": "06372629",
   "metadata": {
    "ExecuteTime": {
     "end_time": "2023-02-08T13:06:11.922885Z",
     "start_time": "2023-02-08T13:06:11.908854Z"
    },
    "code_folding": [],
    "run_control": {
     "marked": false
    }
   },
   "outputs": [],
   "source": [
    "def load_date(image_transformtions ,batch_size=32, \n",
    "              load_classes=[] ,n_samples_per_class=None, Set ='train',verbose = True):  \n",
    "    assert (len(load_classes) != 1 ) , f\"Number Of Classes Must be at least two\"\n",
    "    classes =['bus', 'crossover', 'hatchback', 'motorcycle', 'pickup-truck', 'sedan', 'truck', 'van']\n",
    "    PATH = 'A:/Aiactive/'\n",
    "    if (len(load_classes) ==0):     \n",
    "        data_dir = PATH + Set \n",
    "    else : \n",
    "        for c in load_classes:\n",
    "             assert (c in classes) , f\"classes you want to keep dosnot match {classes}\"\n",
    "        data_dir = PATH +'datasymbolic/'+Set\n",
    "        shutil.rmtree(data_dir) if os.path.isdir(data_dir) else ''\n",
    "        os.mkdir(data_dir)\n",
    "        [os.symlink(PATH+Set+'/'+clas,data_dir+'/'+clas ) for clas in load_classes]\n",
    "    \n",
    "        \n",
    "    dataset = datasets.ImageFolder(data_dir, transform=image_transformtions) \n",
    "    df = pd.DataFrame(dataset.imgs,columns=['image','Labels'])\n",
    "    df =  df.sample(frac=1, replace=False, random_state=6).reset_index(drop=True)\n",
    "    g= pd.DataFrame(df.groupby('Labels').size() ,columns=['Found_Samples'])\n",
    "    g['Class'] = dataset.class_to_idx.keys()\n",
    "    g =g[['Class','Found_Samples']]\n",
    "    \n",
    "    if n_samples_per_class != None:\n",
    "        df = df.groupby('Labels').sample(n=n_samples_per_class, replace=True, random_state=6)\n",
    "      \n",
    "    df =df.groupby('Labels').sample(frac=1, replace=False, random_state=6)\n",
    "    g['Loaded_Samples'] = pd.DataFrame(df.groupby('Labels').size() ,columns=['samples'])['samples']\n",
    "    #g.iloc[1,0]\n",
    "    \n",
    "    sampler = torch.utils.data.SubsetRandomSampler(df.index.tolist())\n",
    "    drop_last =  True if Set =='train' else False\n",
    "    dataloader = torch.utils.data.DataLoader(dataset,\n",
    "                                             sampler=sampler,\n",
    "                                             batch_size=batch_size, \n",
    "                                             shuffle=False ,\n",
    "                                             pin_memory=True,\n",
    "                                             drop_last= drop_last,\n",
    "                                             num_workers=2) \n",
    "    if verbose:\n",
    "        print(f'Sampels Found by loader') \n",
    "        display(g)\n",
    "\n",
    "    return dataloader"
   ]
  },
  {
   "cell_type": "code",
   "execution_count": 5,
   "id": "ee2ea364",
   "metadata": {
    "ExecuteTime": {
     "end_time": "2023-02-08T13:06:11.938162Z",
     "start_time": "2023-02-08T13:06:11.923855Z"
    }
   },
   "outputs": [],
   "source": [
    "#timm.create_model('adv_inception_v3', pretrained=0) "
   ]
  },
  {
   "cell_type": "markdown",
   "id": "9a03b74c",
   "metadata": {},
   "source": [
    "###  Model "
   ]
  },
  {
   "cell_type": "code",
   "execution_count": 6,
   "id": "2e6676d6",
   "metadata": {
    "ExecuteTime": {
     "end_time": "2023-02-08T13:06:11.969636Z",
     "start_time": "2023-02-08T13:06:11.939198Z"
    },
    "code_folding": [
     148
    ],
    "run_control": {
     "marked": false
    }
   },
   "outputs": [],
   "source": [
    "class ModeL(nn.Module):\n",
    "    def __init__(self, n_classes,imagenet_weights=True,device= 'cuda'):\n",
    "        super(ModeL, self).__init__()\n",
    "        self.name = 'adv_inception_v3'\n",
    "        self.pre_trained_w = imagenet_weights\n",
    "        \n",
    "        self._creat_Model(n_classes,imagenet_weights)\n",
    "        \n",
    "        self.history =pd.DataFrame(columns=[\"Training_Loss\",\"Training_Accuracy\",\"Validation_Loss\",\"Validation_Accuracy\",\"epoch_time\"])\n",
    "        self.pramters_number = self.model_Info()\n",
    "        \n",
    "        \n",
    "    def _creat_Model(self,out_features , pretrained=True):\n",
    "        self.model = timm.create_model(self.name, pretrained=pretrained)   \n",
    "        in_f = self.model.fc.in_features\n",
    "        self.model.fc = nn.Sequential(\n",
    "            nn.Linear(in_features=in_f, out_features=out_features, bias=True),\n",
    "            nn.LogSoftmax(dim=1) ) \n",
    "        self.model.to(device)\n",
    "        \n",
    "    \n",
    "    def model_Info(self,summary =False ):\n",
    "        prams=0\n",
    "        for p in list(self.model.parameters()):\n",
    "            prams += p.nelement()\n",
    "        prams = np.round(prams/10**6,2)\n",
    "        if summary:\n",
    "            print(f'model parameters: {prams} M')\n",
    "            print(torchinfo.summary(model)) if summary else ''\n",
    "        return prams\n",
    "    \n",
    "    def Load_Weights(self,load_weights_path ):\n",
    "        state = torch.load(load_weights_path)\n",
    "        self.load_state_dict(state['state_dict'])\n",
    "\n",
    "    @autocast()    \n",
    "    def forward(self, x):\n",
    "        x = self.model(x)\n",
    "        return x\n",
    "    \n",
    "    def _track_history(self,T_Loss,T_Acc,V_Loss,V_Acc,t_ep):\n",
    "        s = pd.Series([T_Loss,T_Acc,V_Loss,V_Acc,t_ep] ,index= self.history.columns)\n",
    "        self.history = self.history.append(s,ignore_index=True)\n",
    "        \n",
    "    def save_model(self,best_metric,current_metric,name,epoch):\n",
    "        if current_metric >= best_metric:\n",
    "            state = {'epoch': epoch,\n",
    "                     'state_dict': self.state_dict()}\n",
    "            torch.save(state, name+'.pt')\n",
    "            best_metric = current_metric\n",
    "            print(f\"%s is Saved with metric :%.3f\" % (str(name).replace(\"_\",\" \"),best_metric ))\n",
    "        return best_metric\n",
    "    \n",
    "    def train_one_epoch(self, loader_train, criterion, optimizer,scaler ,device= 'cuda'):\n",
    "        # keep track of training loss\n",
    "        epoch_loss = 0.0\n",
    "        epoch_accuracy = 0.0\n",
    "        ###################\n",
    "        # train the model #\n",
    "        ###################\n",
    "        self.model.train()\n",
    "        for  (data, target) in tqdm(loader_train):\n",
    "            # move tensors to GPU if CUDA is available\n",
    "            data ,target = data.to(device), target.to(device )\n",
    "            #clear the gradients of all optimized variables\n",
    "            optimizer.zero_grad()\n",
    "            # forward pass: compute predicted outputs by passing inputs to the model\n",
    "            # calculate the batch loss\n",
    "            predictions = self.model(data)\n",
    "            loss = criterion(predictions, target)\n",
    "            # backward pass: compute gradient of the loss with respect to model parameters\n",
    "            loss.backward()\n",
    "            optimizer.step()\n",
    "            acc= (predictions.argmax(dim=1) == target).cpu().numpy().mean()\n",
    "            # one steps\n",
    "            epoch_loss +=loss.detach().item()\n",
    "            epoch_accuracy += acc\n",
    "            #del predictions ,data , target ,loss,acc\n",
    "            #gc.collect()\n",
    "            #torch.cuda.empty_cache()\n",
    "        return  epoch_loss/len(loader_train), epoch_accuracy/len(loader_train)\n",
    "        \n",
    "    def _validate_one_epoch(self, loader, criterion, device= 'cuda'):\n",
    "        # keep track of validation loss\n",
    "        epoch_loss = 0.0\n",
    "        epoch_accuracy = 0.0\n",
    "        self.model.eval()\n",
    "        y_df = pd.DataFrame(columns= [\"Target\",\"predictions\"])\n",
    "        ######################\n",
    "        # validate the model #\n",
    "        ######################\n",
    "        for data, target in loader:\n",
    "            # move tensors to GPU if CUDA is available\n",
    "            data ,target = data.to(device), target.to(device)\n",
    "\n",
    "            with torch.no_grad():\n",
    "                # forward pass: compute predicted outputs by passing inputs to the model\n",
    "                \n",
    "                predictions = self.model(data)\n",
    "                # calculate the batch loss\n",
    "                loss = criterion(predictions, target)\n",
    "                # Calculate Accuracy\n",
    "                acc = (predictions.argmax(dim=1) == target).cpu().numpy().mean()\n",
    "                # update average validation loss and accuracy\n",
    "                epoch_loss += loss.detach().item()\n",
    "                epoch_accuracy += acc\n",
    "                \n",
    "            y_df = y_df.append(pd.DataFrame({\"Target\":target.cpu().numpy().reshape(-1) ,\n",
    "                                            \"predictions\":predictions.argmax(dim=1).cpu().numpy().reshape(-1)  }),\n",
    "                                                   ignore_index=True)\n",
    "        \n",
    "       # del predictions ,data , target ,loss,acc\n",
    "       # gc.collect()\n",
    "        #torch.cuda.empty_cache()\n",
    "        return  epoch_loss/len(loader), epoch_accuracy/len(loader),y_df \n",
    "    \n",
    "    def validate_one_epoch(self, loader, criterion, device= 'cuda'):\n",
    "        loss,acc,y_df =self._validate_one_epoch(loader, criterion, device= device)\n",
    "        f1= f1_score(y_df[\"Target\"].tolist(), y_df[\"predictions\"].tolist(), average='macro')\n",
    "        return loss,acc , f1\n",
    "    \n",
    "    def plot_history(self):\n",
    "        fig,ax=plt.subplots(1,2,figsize = (16,4))\n",
    "        ax[0]= self._plot(ax[0], self.history.index+1,self.history['Training_Loss'],self.history['Validation_Loss'],'Loss' )\n",
    "        ax[1]= self._plot(ax[1], self.history.index+1,self.history['Training_Accuracy'],self.history['Validation_Accuracy'],'Accuracy')\n",
    "        #ax[1].set_ylim([.20, .80])\n",
    "        plt.show()\n",
    "        \n",
    "    def _plot(self, ax, ep,trian,val,plot_name ):\n",
    "        ax.plot(ep, trian,label = \"Training\",color = 'blue')\n",
    "        ax.plot(ep, val ,label = \"Valdtion\",color = 'red')\n",
    "        ax.set_title(f\"{plot_name} per Epoch\",font ={'weight' : 'bold'}) \n",
    "        ax.legend()\n",
    "        ax.set_xlabel(\"Epochs\",font ={'weight' : 'bold'})\n",
    "        ax.set_ylabel(f\"{plot_name}\",font ={'weight' : 'bold'})\n",
    "        return ax\n",
    "    \n",
    "    def model_data_monitor(self,loader, criterion, device= 'cuda' ): \n",
    "\n",
    "        loss, acc, y_df = self._validate_one_epoch( loader, criterion, device= device)\n",
    "        y_df[\"eq\"] = (y_df[\"Target\" ] == y_df[\"predictions\" ])\n",
    "        mapper = {v:k for k,v in loader.dataset.class_to_idx.items()}\n",
    "        y_df[\"Target\" ] = y_df[\"Target\" ].map(mapper) \n",
    "        y_df[\"predictions\" ] = y_df[\"predictions\"].map(mapper) \n",
    "        g= y_df.groupby(['Target','eq'])\\\n",
    "                .agg('size').div(y_df.shape[0])\\\n",
    "                .sort_index( ascending=[True,False]).unstack()\n",
    "\n",
    "        plt.rc('font', **{'size'   : 13})\n",
    "        print(f'Accuracy : {g.sum(0).values[1]} ,Error:{g.sum(0).values[0]} ')\n",
    "        fig,ax=plt.subplots(1,2,figsize = (16,6))\n",
    "        ConfusionMatrixDisplay(confusion_matrix(y_df[\"Target\" ], y_df[\"predictions\" ] ,normalize ='true' )\n",
    "                              ,display_labels=list(loader.dataset.classes) ).plot(ax=ax[0], xticks_rotation= 45)\n",
    "        ax[0].set_title(\"Confusion Matrix\",font ={'weight' : 'bold'})\n",
    "        ax[0].set_xlabel('Predictions',font ={'weight' : 'bold'})\n",
    "        ax[0].set_ylabel('True ',font ={'weight' : 'bold'})\n",
    "        sns.heatmap(g,annot=True,ax=ax[1])\n",
    "        ax[1].tick_params(axis='y', rotation=0)\n",
    "        ax[1].set_xlabel('Predictions',font ={'weight' : 'bold'})\n",
    "        ax[1].set_ylabel('classes',font ={'weight' : 'bold'})\n",
    "        ax[1].set_title(\"Error / Accuracy for each Class\",font ={'weight' : 'bold'})\n",
    "        plt.show()\n",
    "        #del g, fig,ax, y_df\n",
    "        torch.cuda.empty_cache()\n",
    "        return fig,ax\n",
    "    \n",
    "    def train_n_ep(self,epochs,loader_train,loader_val,criterion,optimizer,device = 'cuda'):\n",
    "        best_metric = 0 if len(self.history)==0 else self.history[\"Validation_Accuracy\"].max()\n",
    "        scaler = GradScaler(enabled=True,)\n",
    "        \n",
    "\n",
    "        for epoch in range(1,epochs+1):\n",
    "            start_time = time.time()\n",
    "            loss, acc= self.train_one_epoch(loader_train, criterion, optimizer, scaler =scaler ,device= device)\n",
    "            loss_val, acc_val ,f1_val = self.validate_one_epoch(loader_val, criterion, device)\n",
    "            run_time= (time.time() - start_time)\n",
    "            self._track_history(loss, acc,loss_val, acc_val,run_time)\n",
    "            # ipdisplay.clear_output()\n",
    "            print(f\"[EPOCH]: %i, [LOSS]: %.6f, [ACC]: %.3f\" % (epoch, loss, acc),\n",
    "                  \"\\n[Val_LOSS]: %.6f, [Val_ACC]: %.3f, [Val_F1]: %.3f\" % ( loss_val, acc_val , f1_val))\n",
    "\n",
    "            best_metric= self.save_model(best_metric,f1_val,\"Best_model_on_valdtion\",epoch)"
   ]
  },
  {
   "cell_type": "code",
   "execution_count": 7,
   "id": "42dbd340",
   "metadata": {
    "ExecuteTime": {
     "end_time": "2023-02-08T13:06:11.985777Z",
     "start_time": "2023-02-08T13:06:11.970628Z"
    },
    "code_folding": [],
    "run_control": {
     "marked": false
    }
   },
   "outputs": [],
   "source": [
    "def set_parameter_requires_grad(model, requires_grad,block= 0,sub_block=0):\n",
    "   # the model has 9 layers in layer 4 has 7 invetred res blocks 1 - 7\n",
    "    # block pramter uses to set grad for outer layers 1 to 9 \n",
    "    # sub_block pramter uses to set grad for invetred res blocks in outter layers 4 so set grad for invetred res blocks\n",
    "                #use block = 4  and set sub_block from 1 to 7\n",
    "    sub_block = sub_block if block == 4 else 0\n",
    "    #print(sub_block)\n",
    "    for i,Blk in enumerate(model.children(),1): \n",
    "        if (block ==4 )and(i ==4) :\n",
    "            for j,sBlk in enumerate(Blk.children(),1):\n",
    "                if j >=sub_block :\n",
    "                    for p in sBlk.parameters():\n",
    "                        p.requires_grad = requires_grad\n",
    "        elif i >= block: \n",
    "            for p in Blk.parameters():\n",
    "                p.requires_grad = requires_grad\n",
    "                    "
   ]
  },
  {
   "cell_type": "markdown",
   "id": "39426734",
   "metadata": {},
   "source": [
    "## Hyper-parameters"
   ]
  },
  {
   "cell_type": "code",
   "execution_count": 8,
   "id": "e116bd68",
   "metadata": {
    "ExecuteTime": {
     "end_time": "2023-02-08T13:06:12.065227Z",
     "start_time": "2023-02-08T13:06:11.987227Z"
    }
   },
   "outputs": [],
   "source": [
    "#['Anger','Contempt','Disgust','Fear','Happiness','Neutral','Sadness','Surprise']\n",
    "seed_everything(48)\n",
    "prams = {}\n",
    "prams['batchsize']= 16\n",
    "prams['learning_rate']= 3e-5\n",
    "prams['betas'] =(0.9, 0.999)\n",
    "prams['weight_decay'] = 1e-3\n",
    "prams['sub_classes'] = ['bus', 'crossover', 'hatchback', 'motorcycle', 'pickup-truck', 'sedan', 'truck', 'van']\n",
    "prams['samples_per_class'] =None\n",
    "prams['n_classes'] = len(prams['sub_classes'])\n",
    "#prams['classes_weights'] = torch.tensor([21.07478833490122, 1.0, 5.279665344279037, 9.539744499645138],dtype=torch.float16, device=device)"
   ]
  },
  {
   "cell_type": "markdown",
   "id": "5b4c37d2",
   "metadata": {},
   "source": [
    "## create data loaders"
   ]
  },
  {
   "cell_type": "code",
   "execution_count": 9,
   "id": "b5faf15f",
   "metadata": {
    "ExecuteTime": {
     "end_time": "2023-02-08T13:06:12.129227Z",
     "start_time": "2023-02-08T13:06:12.066197Z"
    }
   },
   "outputs": [
    {
     "name": "stdout",
     "output_type": "stream",
     "text": [
      "Sampels Found by loader\n"
     ]
    },
    {
     "data": {
      "text/html": [
       "<div>\n",
       "<style scoped>\n",
       "    .dataframe tbody tr th:only-of-type {\n",
       "        vertical-align: middle;\n",
       "    }\n",
       "\n",
       "    .dataframe tbody tr th {\n",
       "        vertical-align: top;\n",
       "    }\n",
       "\n",
       "    .dataframe thead th {\n",
       "        text-align: right;\n",
       "    }\n",
       "</style>\n",
       "<table border=\"1\" class=\"dataframe\">\n",
       "  <thead>\n",
       "    <tr style=\"text-align: right;\">\n",
       "      <th></th>\n",
       "      <th>Class</th>\n",
       "      <th>Found_Samples</th>\n",
       "      <th>Loaded_Samples</th>\n",
       "    </tr>\n",
       "    <tr>\n",
       "      <th>Labels</th>\n",
       "      <th></th>\n",
       "      <th></th>\n",
       "      <th></th>\n",
       "    </tr>\n",
       "  </thead>\n",
       "  <tbody>\n",
       "    <tr>\n",
       "      <th>0</th>\n",
       "      <td>bus</td>\n",
       "      <td>77</td>\n",
       "      <td>77</td>\n",
       "    </tr>\n",
       "    <tr>\n",
       "      <th>1</th>\n",
       "      <td>crossover</td>\n",
       "      <td>480</td>\n",
       "      <td>480</td>\n",
       "    </tr>\n",
       "    <tr>\n",
       "      <th>2</th>\n",
       "      <td>hatchback</td>\n",
       "      <td>419</td>\n",
       "      <td>419</td>\n",
       "    </tr>\n",
       "    <tr>\n",
       "      <th>3</th>\n",
       "      <td>motorcycle</td>\n",
       "      <td>95</td>\n",
       "      <td>95</td>\n",
       "    </tr>\n",
       "    <tr>\n",
       "      <th>4</th>\n",
       "      <td>pickup-truck</td>\n",
       "      <td>357</td>\n",
       "      <td>357</td>\n",
       "    </tr>\n",
       "    <tr>\n",
       "      <th>5</th>\n",
       "      <td>sedan</td>\n",
       "      <td>1581</td>\n",
       "      <td>1581</td>\n",
       "    </tr>\n",
       "    <tr>\n",
       "      <th>6</th>\n",
       "      <td>truck</td>\n",
       "      <td>258</td>\n",
       "      <td>258</td>\n",
       "    </tr>\n",
       "    <tr>\n",
       "      <th>7</th>\n",
       "      <td>van</td>\n",
       "      <td>418</td>\n",
       "      <td>418</td>\n",
       "    </tr>\n",
       "  </tbody>\n",
       "</table>\n",
       "</div>"
      ],
      "text/plain": [
       "               Class  Found_Samples  Loaded_Samples\n",
       "Labels                                             \n",
       "0                bus             77              77\n",
       "1          crossover            480             480\n",
       "2          hatchback            419             419\n",
       "3         motorcycle             95              95\n",
       "4       pickup-truck            357             357\n",
       "5              sedan           1581            1581\n",
       "6              truck            258             258\n",
       "7                van            418             418"
      ]
     },
     "metadata": {},
     "output_type": "display_data"
    },
    {
     "name": "stdout",
     "output_type": "stream",
     "text": [
      "Sampels Found by loader\n"
     ]
    },
    {
     "data": {
      "text/html": [
       "<div>\n",
       "<style scoped>\n",
       "    .dataframe tbody tr th:only-of-type {\n",
       "        vertical-align: middle;\n",
       "    }\n",
       "\n",
       "    .dataframe tbody tr th {\n",
       "        vertical-align: top;\n",
       "    }\n",
       "\n",
       "    .dataframe thead th {\n",
       "        text-align: right;\n",
       "    }\n",
       "</style>\n",
       "<table border=\"1\" class=\"dataframe\">\n",
       "  <thead>\n",
       "    <tr style=\"text-align: right;\">\n",
       "      <th></th>\n",
       "      <th>Class</th>\n",
       "      <th>Found_Samples</th>\n",
       "      <th>Loaded_Samples</th>\n",
       "    </tr>\n",
       "    <tr>\n",
       "      <th>Labels</th>\n",
       "      <th></th>\n",
       "      <th></th>\n",
       "      <th></th>\n",
       "    </tr>\n",
       "  </thead>\n",
       "  <tbody>\n",
       "    <tr>\n",
       "      <th>0</th>\n",
       "      <td>bus</td>\n",
       "      <td>20</td>\n",
       "      <td>20</td>\n",
       "    </tr>\n",
       "    <tr>\n",
       "      <th>1</th>\n",
       "      <td>crossover</td>\n",
       "      <td>120</td>\n",
       "      <td>120</td>\n",
       "    </tr>\n",
       "    <tr>\n",
       "      <th>2</th>\n",
       "      <td>hatchback</td>\n",
       "      <td>105</td>\n",
       "      <td>105</td>\n",
       "    </tr>\n",
       "    <tr>\n",
       "      <th>3</th>\n",
       "      <td>motorcycle</td>\n",
       "      <td>22</td>\n",
       "      <td>22</td>\n",
       "    </tr>\n",
       "    <tr>\n",
       "      <th>4</th>\n",
       "      <td>pickup-truck</td>\n",
       "      <td>90</td>\n",
       "      <td>90</td>\n",
       "    </tr>\n",
       "    <tr>\n",
       "      <th>5</th>\n",
       "      <td>sedan</td>\n",
       "      <td>396</td>\n",
       "      <td>396</td>\n",
       "    </tr>\n",
       "    <tr>\n",
       "      <th>6</th>\n",
       "      <td>truck</td>\n",
       "      <td>65</td>\n",
       "      <td>65</td>\n",
       "    </tr>\n",
       "    <tr>\n",
       "      <th>7</th>\n",
       "      <td>van</td>\n",
       "      <td>105</td>\n",
       "      <td>105</td>\n",
       "    </tr>\n",
       "  </tbody>\n",
       "</table>\n",
       "</div>"
      ],
      "text/plain": [
       "               Class  Found_Samples  Loaded_Samples\n",
       "Labels                                             \n",
       "0                bus             20              20\n",
       "1          crossover            120             120\n",
       "2          hatchback            105             105\n",
       "3         motorcycle             22              22\n",
       "4       pickup-truck             90              90\n",
       "5              sedan            396             396\n",
       "6              truck             65              65\n",
       "7                van            105             105"
      ]
     },
     "metadata": {},
     "output_type": "display_data"
    }
   ],
   "source": [
    "#transforms.Grayscale(num_output_channels=1)\n",
    "IMG_SIZE = 260\n",
    "transform_trian = transforms.Compose([\n",
    "                                      transforms.RandomHorizontalFlip(p=0.25),\n",
    "                                      transforms.RandomVerticalFlip(p=0.25),\n",
    "                                      transforms.RandomRotation(degrees=(-40,40)),\n",
    "                                      transforms.RandomPerspective(distortion_scale=0.5, p=0.2),\n",
    "                                      transforms.Resize((IMG_SIZE,IMG_SIZE)),\n",
    "                                      transforms.ToTensor(),\n",
    "                                      transforms.Normalize((0.485, 0.456, 0.406), (0.229, 0.224, 0.225))\n",
    "                                                               ])# TODO: compose transforms here\n",
    "transform_val= transforms.Compose([\n",
    "                                    transforms.Resize((IMG_SIZE,IMG_SIZE)),\n",
    "                                    transforms.ToTensor(),\n",
    "                                    transforms.Normalize((0.485, 0.456, 0.406), (0.229, 0.224, 0.225))\n",
    "                                                            ])# TODO: compose transforms here\n",
    "\n",
    "loader_train =load_date(batch_size=prams['batchsize'],\n",
    "                        image_transformtions = transform_trian,\n",
    "                        load_classes=prams['sub_classes'] ,\n",
    "                        n_samples_per_class=prams['samples_per_class'],\n",
    "                        Set ='train',verbose = True)\n",
    "\n",
    "loader_val =load_date(batch_size=prams['batchsize'],\n",
    "                      image_transformtions = transform_val,\n",
    "                        load_classes=prams['sub_classes'] ,\n",
    "                        n_samples_per_class=None,Set ='test',verbose = True)"
   ]
  },
  {
   "cell_type": "code",
   "execution_count": 10,
   "id": "a484dc0f",
   "metadata": {
    "ExecuteTime": {
     "end_time": "2023-02-08T13:06:13.279053Z",
     "start_time": "2023-02-08T13:06:12.131197Z"
    }
   },
   "outputs": [
    {
     "name": "stderr",
     "output_type": "stream",
     "text": [
      "C:\\Users\\amrlo\\AppData\\Local\\Temp\\ipykernel_15868\\2794179168.py:5: UserWarning: To copy construct from a tensor, it is recommended to use sourceTensor.clone().detach() or sourceTensor.clone().detach().requires_grad_(True), rather than torch.tensor(sourceTensor).\n",
      "  prams['classes_weights'] = torch.tensor(cw,dtype=torch.float32, device=device)\n"
     ]
    },
    {
     "name": "stdout",
     "output_type": "stream",
     "text": [
      "tensor([1.0000, 1.2000, 1.3500, 1.0000, 1.0000, 1.0000, 1.3000, 1.0000],\n",
      "       device='cuda:0')\n"
     ]
    }
   ],
   "source": [
    "#(unique, counts) = np.unique(loader_train.dataset.targets, return_counts=True)\n",
    "#cw=1/counts *counts.max()\n",
    "cw = torch.tensor([1,  1.2, 1.35, 1,  1,  1.0000,  1.3,  1])\n",
    "#class_weights = {i:cwi for i,cwi in zip(unique,cw)}\n",
    "prams['classes_weights'] = torch.tensor(cw,dtype=torch.float32, device=device)\n",
    "print(prams['classes_weights'] )\n",
    "criterion = nn.CrossEntropyLoss(weight=prams['classes_weights'] , reduction=\"mean\", label_smoothing=0.01)"
   ]
  },
  {
   "cell_type": "code",
   "execution_count": 11,
   "id": "9ab63b98",
   "metadata": {
    "ExecuteTime": {
     "end_time": "2023-02-08T13:06:13.295055Z",
     "start_time": "2023-02-08T13:06:13.280023Z"
    }
   },
   "outputs": [],
   "source": [
    "#timm.list_models()"
   ]
  },
  {
   "cell_type": "markdown",
   "id": "ab222536",
   "metadata": {},
   "source": [
    "## create model "
   ]
  },
  {
   "cell_type": "code",
   "execution_count": 12,
   "id": "2d2de0da",
   "metadata": {
    "ExecuteTime": {
     "end_time": "2023-02-08T13:06:13.739021Z",
     "start_time": "2023-02-08T13:06:13.296024Z"
    }
   },
   "outputs": [
    {
     "name": "stdout",
     "output_type": "stream",
     "text": [
      "model parameters: 21.8 M\n",
      "=================================================================\n",
      "Layer (type:depth-idx)                   Param #\n",
      "=================================================================\n",
      "ModeL                                    --\n",
      "├─InceptionV3: 1-1                       --\n",
      "│    └─BasicConv2d: 2-1                  --\n",
      "│    │    └─Conv2d: 3-1                  864\n",
      "│    │    └─BatchNorm2d: 3-2             64\n",
      "│    └─BasicConv2d: 2-2                  --\n",
      "│    │    └─Conv2d: 3-3                  9,216\n",
      "│    │    └─BatchNorm2d: 3-4             64\n",
      "│    └─BasicConv2d: 2-3                  --\n",
      "│    │    └─Conv2d: 3-5                  18,432\n",
      "│    │    └─BatchNorm2d: 3-6             128\n",
      "│    └─MaxPool2d: 2-4                    --\n",
      "│    └─BasicConv2d: 2-5                  --\n",
      "│    │    └─Conv2d: 3-7                  5,120\n",
      "│    │    └─BatchNorm2d: 3-8             160\n",
      "│    └─BasicConv2d: 2-6                  --\n",
      "│    │    └─Conv2d: 3-9                  138,240\n",
      "│    │    └─BatchNorm2d: 3-10            384\n",
      "│    └─MaxPool2d: 2-7                    --\n",
      "│    └─InceptionA: 2-8                   --\n",
      "│    │    └─BasicConv2d: 3-11            12,416\n",
      "│    │    └─BasicConv2d: 3-12            9,312\n",
      "│    │    └─BasicConv2d: 3-13            76,928\n",
      "│    │    └─BasicConv2d: 3-14            12,416\n",
      "│    │    └─BasicConv2d: 3-15            55,488\n",
      "│    │    └─BasicConv2d: 3-16            83,136\n",
      "│    │    └─BasicConv2d: 3-17            6,208\n",
      "│    └─InceptionA: 2-9                   --\n",
      "│    │    └─BasicConv2d: 3-18            16,512\n",
      "│    │    └─BasicConv2d: 3-19            12,384\n",
      "│    │    └─BasicConv2d: 3-20            76,928\n",
      "│    │    └─BasicConv2d: 3-21            16,512\n",
      "│    │    └─BasicConv2d: 3-22            55,488\n",
      "│    │    └─BasicConv2d: 3-23            83,136\n",
      "│    │    └─BasicConv2d: 3-24            16,512\n",
      "│    └─InceptionA: 2-10                  --\n",
      "│    │    └─BasicConv2d: 3-25            18,560\n",
      "│    │    └─BasicConv2d: 3-26            13,920\n",
      "│    │    └─BasicConv2d: 3-27            76,928\n",
      "│    │    └─BasicConv2d: 3-28            18,560\n",
      "│    │    └─BasicConv2d: 3-29            55,488\n",
      "│    │    └─BasicConv2d: 3-30            83,136\n",
      "│    │    └─BasicConv2d: 3-31            18,560\n",
      "│    └─InceptionB: 2-11                  --\n",
      "│    │    └─BasicConv2d: 3-32            996,096\n",
      "│    │    └─BasicConv2d: 3-33            18,560\n",
      "│    │    └─BasicConv2d: 3-34            55,488\n",
      "│    │    └─BasicConv2d: 3-35            83,136\n",
      "│    └─InceptionC: 2-12                  --\n",
      "│    │    └─BasicConv2d: 3-36            147,840\n",
      "│    │    └─BasicConv2d: 3-37            98,560\n",
      "│    │    └─BasicConv2d: 3-38            114,944\n",
      "│    │    └─BasicConv2d: 3-39            172,416\n",
      "│    │    └─BasicConv2d: 3-40            98,560\n",
      "│    │    └─BasicConv2d: 3-41            114,944\n",
      "│    │    └─BasicConv2d: 3-42            114,944\n",
      "│    │    └─BasicConv2d: 3-43            114,944\n",
      "│    │    └─BasicConv2d: 3-44            172,416\n",
      "│    │    └─BasicConv2d: 3-45            147,840\n",
      "│    └─InceptionC: 2-13                  --\n",
      "│    │    └─BasicConv2d: 3-46            147,840\n",
      "│    │    └─BasicConv2d: 3-47            123,200\n",
      "│    │    └─BasicConv2d: 3-48            179,520\n",
      "│    │    └─BasicConv2d: 3-49            215,424\n",
      "│    │    └─BasicConv2d: 3-50            123,200\n",
      "│    │    └─BasicConv2d: 3-51            179,520\n",
      "│    │    └─BasicConv2d: 3-52            179,520\n",
      "│    │    └─BasicConv2d: 3-53            179,520\n",
      "│    │    └─BasicConv2d: 3-54            215,424\n",
      "│    │    └─BasicConv2d: 3-55            147,840\n",
      "│    └─InceptionC: 2-14                  --\n",
      "│    │    └─BasicConv2d: 3-56            147,840\n",
      "│    │    └─BasicConv2d: 3-57            123,200\n",
      "│    │    └─BasicConv2d: 3-58            179,520\n",
      "│    │    └─BasicConv2d: 3-59            215,424\n",
      "│    │    └─BasicConv2d: 3-60            123,200\n",
      "│    │    └─BasicConv2d: 3-61            179,520\n",
      "│    │    └─BasicConv2d: 3-62            179,520\n",
      "│    │    └─BasicConv2d: 3-63            179,520\n",
      "│    │    └─BasicConv2d: 3-64            215,424\n",
      "│    │    └─BasicConv2d: 3-65            147,840\n",
      "│    └─InceptionC: 2-15                  --\n",
      "│    │    └─BasicConv2d: 3-66            147,840\n",
      "│    │    └─BasicConv2d: 3-67            147,840\n",
      "│    │    └─BasicConv2d: 3-68            258,432\n",
      "│    │    └─BasicConv2d: 3-69            258,432\n",
      "│    │    └─BasicConv2d: 3-70            147,840\n",
      "│    │    └─BasicConv2d: 3-71            258,432\n",
      "│    │    └─BasicConv2d: 3-72            258,432\n",
      "│    │    └─BasicConv2d: 3-73            258,432\n",
      "│    │    └─BasicConv2d: 3-74            258,432\n",
      "│    │    └─BasicConv2d: 3-75            147,840\n",
      "│    └─InceptionD: 2-16                  --\n",
      "│    │    └─BasicConv2d: 3-76            147,840\n",
      "│    │    └─BasicConv2d: 3-77            553,600\n",
      "│    │    └─BasicConv2d: 3-78            147,840\n",
      "│    │    └─BasicConv2d: 3-79            258,432\n",
      "│    │    └─BasicConv2d: 3-80            258,432\n",
      "│    │    └─BasicConv2d: 3-81            332,160\n",
      "│    └─InceptionE: 2-17                  --\n",
      "│    │    └─BasicConv2d: 3-82            410,240\n",
      "│    │    └─BasicConv2d: 3-83            492,288\n",
      "│    │    └─BasicConv2d: 3-84            443,136\n",
      "│    │    └─BasicConv2d: 3-85            443,136\n",
      "│    │    └─BasicConv2d: 3-86            574,336\n",
      "│    │    └─BasicConv2d: 3-87            1,549,056\n",
      "│    │    └─BasicConv2d: 3-88            443,136\n",
      "│    │    └─BasicConv2d: 3-89            443,136\n",
      "│    │    └─BasicConv2d: 3-90            246,144\n",
      "│    └─InceptionE: 2-18                  --\n",
      "│    │    └─BasicConv2d: 3-91            656,000\n",
      "│    │    └─BasicConv2d: 3-92            787,200\n",
      "│    │    └─BasicConv2d: 3-93            443,136\n",
      "│    │    └─BasicConv2d: 3-94            443,136\n",
      "│    │    └─BasicConv2d: 3-95            918,400\n",
      "│    │    └─BasicConv2d: 3-96            1,549,056\n",
      "│    │    └─BasicConv2d: 3-97            443,136\n",
      "│    │    └─BasicConv2d: 3-98            443,136\n",
      "│    │    └─BasicConv2d: 3-99            393,600\n",
      "│    └─SelectAdaptivePool2d: 2-19        --\n",
      "│    │    └─Flatten: 3-100               --\n",
      "│    │    └─AdaptiveAvgPool2d: 3-101     --\n",
      "│    └─Sequential: 2-20                  --\n",
      "│    │    └─Linear: 3-102                16,392\n",
      "│    │    └─LogSoftmax: 3-103            --\n",
      "=================================================================\n",
      "Total params: 21,801,960\n",
      "Trainable params: 21,801,960\n",
      "Non-trainable params: 0\n",
      "=================================================================\n"
     ]
    },
    {
     "data": {
      "text/plain": [
       "21.8"
      ]
     },
     "execution_count": 12,
     "metadata": {},
     "output_type": "execute_result"
    }
   ],
   "source": [
    "model =ModeL(prams['n_classes'],imagenet_weights= True)\n",
    "model.model_Info(summary= True)"
   ]
  },
  {
   "cell_type": "markdown",
   "id": "bda7f93e",
   "metadata": {},
   "source": [
    "## train for n epochs"
   ]
  },
  {
   "cell_type": "code",
   "execution_count": 13,
   "id": "cd671af2",
   "metadata": {
    "ExecuteTime": {
     "end_time": "2023-02-08T13:13:05.057998Z",
     "start_time": "2023-02-08T13:06:13.740023Z"
    },
    "scrolled": true
   },
   "outputs": [
    {
     "data": {
      "application/vnd.jupyter.widget-view+json": {
       "model_id": "634a9cec719d4beab908ad9c7ffa651c",
       "version_major": 2,
       "version_minor": 0
      },
      "text/plain": [
       "  0%|          | 0/230 [00:00<?, ?it/s]"
      ]
     },
     "metadata": {},
     "output_type": "display_data"
    },
    {
     "name": "stdout",
     "output_type": "stream",
     "text": [
      "[EPOCH]: 1, [LOSS]: 1.554771, [ACC]: 0.475 \n",
      "[Val_LOSS]: 1.454212, [Val_ACC]: 0.582, [Val_F1]: 0.419\n",
      "Best model on valdtion is Saved with metric :0.419\n"
     ]
    },
    {
     "data": {
      "application/vnd.jupyter.widget-view+json": {
       "model_id": "f3ca48e50e184f0890681063dc6329ee",
       "version_major": 2,
       "version_minor": 0
      },
      "text/plain": [
       "  0%|          | 0/230 [00:00<?, ?it/s]"
      ]
     },
     "metadata": {},
     "output_type": "display_data"
    },
    {
     "name": "stdout",
     "output_type": "stream",
     "text": [
      "[EPOCH]: 2, [LOSS]: 1.262166, [ACC]: 0.578 \n",
      "[Val_LOSS]: 1.260843, [Val_ACC]: 0.564, [Val_F1]: 0.394\n"
     ]
    },
    {
     "data": {
      "application/vnd.jupyter.widget-view+json": {
       "model_id": "74b4f87a19294e22b747a75c2785ed95",
       "version_major": 2,
       "version_minor": 0
      },
      "text/plain": [
       "  0%|          | 0/230 [00:00<?, ?it/s]"
      ]
     },
     "metadata": {},
     "output_type": "display_data"
    },
    {
     "name": "stdout",
     "output_type": "stream",
     "text": [
      "[EPOCH]: 3, [LOSS]: 1.146476, [ACC]: 0.623 \n",
      "[Val_LOSS]: 1.255974, [Val_ACC]: 0.564, [Val_F1]: 0.488\n",
      "Best model on valdtion is Saved with metric :0.488\n"
     ]
    },
    {
     "data": {
      "application/vnd.jupyter.widget-view+json": {
       "model_id": "d40adc5ab30e4f739dcf887831439e6d",
       "version_major": 2,
       "version_minor": 0
      },
      "text/plain": [
       "  0%|          | 0/230 [00:00<?, ?it/s]"
      ]
     },
     "metadata": {},
     "output_type": "display_data"
    },
    {
     "name": "stdout",
     "output_type": "stream",
     "text": [
      "[EPOCH]: 4, [LOSS]: 1.059700, [ACC]: 0.644 \n",
      "[Val_LOSS]: 1.129859, [Val_ACC]: 0.652, [Val_F1]: 0.577\n",
      "Best model on valdtion is Saved with metric :0.577\n"
     ]
    },
    {
     "data": {
      "application/vnd.jupyter.widget-view+json": {
       "model_id": "265be106c82844e38c519e3d9e53e2d5",
       "version_major": 2,
       "version_minor": 0
      },
      "text/plain": [
       "  0%|          | 0/230 [00:00<?, ?it/s]"
      ]
     },
     "metadata": {},
     "output_type": "display_data"
    },
    {
     "name": "stdout",
     "output_type": "stream",
     "text": [
      "[EPOCH]: 5, [LOSS]: 1.025042, [ACC]: 0.653 \n",
      "[Val_LOSS]: 1.127924, [Val_ACC]: 0.573, [Val_F1]: 0.514\n"
     ]
    },
    {
     "data": {
      "application/vnd.jupyter.widget-view+json": {
       "model_id": "d900a3ee3b114261a4cb6f299829dd0c",
       "version_major": 2,
       "version_minor": 0
      },
      "text/plain": [
       "  0%|          | 0/230 [00:00<?, ?it/s]"
      ]
     },
     "metadata": {},
     "output_type": "display_data"
    },
    {
     "name": "stdout",
     "output_type": "stream",
     "text": [
      "[EPOCH]: 6, [LOSS]: 1.003730, [ACC]: 0.675 \n",
      "[Val_LOSS]: 1.062311, [Val_ACC]: 0.672, [Val_F1]: 0.596\n",
      "Best model on valdtion is Saved with metric :0.596\n"
     ]
    },
    {
     "data": {
      "application/vnd.jupyter.widget-view+json": {
       "model_id": "4937c2f47e7546a2b43a71b1a9a01f42",
       "version_major": 2,
       "version_minor": 0
      },
      "text/plain": [
       "  0%|          | 0/230 [00:00<?, ?it/s]"
      ]
     },
     "metadata": {},
     "output_type": "display_data"
    },
    {
     "name": "stdout",
     "output_type": "stream",
     "text": [
      "[EPOCH]: 7, [LOSS]: 0.954248, [ACC]: 0.685 \n",
      "[Val_LOSS]: 1.024098, [Val_ACC]: 0.642, [Val_F1]: 0.559\n"
     ]
    },
    {
     "data": {
      "application/vnd.jupyter.widget-view+json": {
       "model_id": "5752d15c494b426382d0244bafc90dbe",
       "version_major": 2,
       "version_minor": 0
      },
      "text/plain": [
       "  0%|          | 0/230 [00:00<?, ?it/s]"
      ]
     },
     "metadata": {},
     "output_type": "display_data"
    },
    {
     "name": "stdout",
     "output_type": "stream",
     "text": [
      "[EPOCH]: 8, [LOSS]: 0.944774, [ACC]: 0.680 \n",
      "[Val_LOSS]: 1.035924, [Val_ACC]: 0.667, [Val_F1]: 0.602\n",
      "Best model on valdtion is Saved with metric :0.602\n"
     ]
    },
    {
     "data": {
      "application/vnd.jupyter.widget-view+json": {
       "model_id": "a25710dc95ba40cd9b9bc4d9dfd0e8bd",
       "version_major": 2,
       "version_minor": 0
      },
      "text/plain": [
       "  0%|          | 0/230 [00:00<?, ?it/s]"
      ]
     },
     "metadata": {},
     "output_type": "display_data"
    },
    {
     "name": "stdout",
     "output_type": "stream",
     "text": [
      "[EPOCH]: 9, [LOSS]: 0.921555, [ACC]: 0.699 \n",
      "[Val_LOSS]: 1.008302, [Val_ACC]: 0.668, [Val_F1]: 0.618\n",
      "Best model on valdtion is Saved with metric :0.618\n"
     ]
    },
    {
     "data": {
      "application/vnd.jupyter.widget-view+json": {
       "model_id": "924272070f9b418ca33dcf4fd1e9c292",
       "version_major": 2,
       "version_minor": 0
      },
      "text/plain": [
       "  0%|          | 0/230 [00:00<?, ?it/s]"
      ]
     },
     "metadata": {},
     "output_type": "display_data"
    },
    {
     "name": "stdout",
     "output_type": "stream",
     "text": [
      "[EPOCH]: 10, [LOSS]: 0.926590, [ACC]: 0.696 \n",
      "[Val_LOSS]: 0.960292, [Val_ACC]: 0.661, [Val_F1]: 0.634\n",
      "Best model on valdtion is Saved with metric :0.634\n"
     ]
    },
    {
     "data": {
      "image/png": "[encoded data removed]",
      "text/plain": [
       "<Figure size 1600x400 with 2 Axes>"
      ]
     },
     "metadata": {},
     "output_type": "display_data"
    },
    {
     "name": "stdout",
     "output_type": "stream",
     "text": [
      "Accuracy : 0.6608884073672807 ,Error:0.3391115926327194 \n"
     ]
    },
    {
     "data": {
      "image/png": "[encoded data removed]",
      "text/plain": [
       "<Figure size 1600x600 with 4 Axes>"
      ]
     },
     "metadata": {},
     "output_type": "display_data"
    },
    {
     "data": {
      "text/html": [
       "<div>\n",
       "<style scoped>\n",
       "    .dataframe tbody tr th:only-of-type {\n",
       "        vertical-align: middle;\n",
       "    }\n",
       "\n",
       "    .dataframe tbody tr th {\n",
       "        vertical-align: top;\n",
       "    }\n",
       "\n",
       "    .dataframe thead th {\n",
       "        text-align: right;\n",
       "    }\n",
       "</style>\n",
       "<table border=\"1\" class=\"dataframe\">\n",
       "  <thead>\n",
       "    <tr style=\"text-align: right;\">\n",
       "      <th></th>\n",
       "      <th>Training_Loss</th>\n",
       "      <th>Training_Accuracy</th>\n",
       "      <th>Validation_Loss</th>\n",
       "      <th>Validation_Accuracy</th>\n",
       "      <th>epoch_time</th>\n",
       "    </tr>\n",
       "  </thead>\n",
       "  <tbody>\n",
       "    <tr>\n",
       "      <th>5</th>\n",
       "      <td>1.003730</td>\n",
       "      <td>0.675000</td>\n",
       "      <td>1.062311</td>\n",
       "      <td>0.671532</td>\n",
       "      <td>40.071325</td>\n",
       "    </tr>\n",
       "    <tr>\n",
       "      <th>6</th>\n",
       "      <td>0.954248</td>\n",
       "      <td>0.684783</td>\n",
       "      <td>1.024098</td>\n",
       "      <td>0.642437</td>\n",
       "      <td>40.163657</td>\n",
       "    </tr>\n",
       "    <tr>\n",
       "      <th>7</th>\n",
       "      <td>0.944774</td>\n",
       "      <td>0.680435</td>\n",
       "      <td>1.035924</td>\n",
       "      <td>0.666732</td>\n",
       "      <td>40.074889</td>\n",
       "    </tr>\n",
       "    <tr>\n",
       "      <th>8</th>\n",
       "      <td>0.921555</td>\n",
       "      <td>0.698641</td>\n",
       "      <td>1.008302</td>\n",
       "      <td>0.668201</td>\n",
       "      <td>40.175295</td>\n",
       "    </tr>\n",
       "    <tr>\n",
       "      <th>9</th>\n",
       "      <td>0.926590</td>\n",
       "      <td>0.695924</td>\n",
       "      <td>0.960292</td>\n",
       "      <td>0.661246</td>\n",
       "      <td>40.030779</td>\n",
       "    </tr>\n",
       "  </tbody>\n",
       "</table>\n",
       "</div>"
      ],
      "text/plain": [
       "   Training_Loss  Training_Accuracy  Validation_Loss  Validation_Accuracy  \\\n",
       "5       1.003730           0.675000         1.062311             0.671532   \n",
       "6       0.954248           0.684783         1.024098             0.642437   \n",
       "7       0.944774           0.680435         1.035924             0.666732   \n",
       "8       0.921555           0.698641         1.008302             0.668201   \n",
       "9       0.926590           0.695924         0.960292             0.661246   \n",
       "\n",
       "   epoch_time  \n",
       "5   40.071325  \n",
       "6   40.163657  \n",
       "7   40.074889  \n",
       "8   40.175295  \n",
       "9   40.030779  "
      ]
     },
     "execution_count": 13,
     "metadata": {},
     "output_type": "execute_result"
    }
   ],
   "source": [
    "prams['epochs'] =10\n",
    "prams['learning_rate']= 5e-4\n",
    "\n",
    "#set_parameter_requires_grad(model, requires_grad=False)\n",
    "#set_parameter_requires_grad(model.model.classifier, requires_grad=True)\n",
    "optimizer = optim.NAdam( model.model.fc.parameters(),\n",
    "                 lr=prams['learning_rate'], betas=prams['betas'] )\n",
    "model.train_n_ep(prams['epochs'] ,loader_train,loader_val,criterion,optimizer )\n",
    "\n",
    "model.plot_history()\n",
    "_=model.model_data_monitor(loader_val, criterion)\n",
    "model.history.tail()\n"
   ]
  },
  {
   "cell_type": "code",
   "execution_count": null,
   "id": "0e176e80",
   "metadata": {
    "ExecuteTime": {
     "start_time": "2023-02-08T13:06:04.703Z"
    },
    "scrolled": true
   },
   "outputs": [
    {
     "data": {
      "application/vnd.jupyter.widget-view+json": {
       "model_id": "f10ddf62400e47ee8d476c35ab0f5094",
       "version_major": 2,
       "version_minor": 0
      },
      "text/plain": [
       "  0%|          | 0/230 [00:00<?, ?it/s]"
      ]
     },
     "metadata": {},
     "output_type": "display_data"
    },
    {
     "name": "stdout",
     "output_type": "stream",
     "text": [
      "[EPOCH]: 1, [LOSS]: 1.135044, [ACC]: 0.623 \n",
      "[Val_LOSS]: 13.410636, [Val_ACC]: 0.220, [Val_F1]: 0.117\n"
     ]
    },
    {
     "data": {
      "application/vnd.jupyter.widget-view+json": {
       "model_id": "d8e987d766254fb8b4aef50c9c46c17c",
       "version_major": 2,
       "version_minor": 0
      },
      "text/plain": [
       "  0%|          | 0/230 [00:00<?, ?it/s]"
      ]
     },
     "metadata": {},
     "output_type": "display_data"
    },
    {
     "name": "stdout",
     "output_type": "stream",
     "text": [
      "[EPOCH]: 2, [LOSS]: 0.831130, [ACC]: 0.720 \n",
      "[Val_LOSS]: 0.803303, [Val_ACC]: 0.710, [Val_F1]: 0.706\n",
      "Best model on valdtion is Saved with metric :0.706\n"
     ]
    },
    {
     "data": {
      "application/vnd.jupyter.widget-view+json": {
       "model_id": "c4432aba46b54a8ca02229d9830fbb79",
       "version_major": 2,
       "version_minor": 0
      },
      "text/plain": [
       "  0%|          | 0/230 [00:00<?, ?it/s]"
      ]
     },
     "metadata": {},
     "output_type": "display_data"
    },
    {
     "name": "stdout",
     "output_type": "stream",
     "text": [
      "[EPOCH]: 3, [LOSS]: 0.640140, [ACC]: 0.798 \n",
      "[Val_LOSS]: 0.934184, [Val_ACC]: 0.730, [Val_F1]: 0.700\n"
     ]
    },
    {
     "data": {
      "application/vnd.jupyter.widget-view+json": {
       "model_id": "c158d8c74de346bfb4f7de75f46be1c4",
       "version_major": 2,
       "version_minor": 0
      },
      "text/plain": [
       "  0%|          | 0/230 [00:00<?, ?it/s]"
      ]
     },
     "metadata": {},
     "output_type": "display_data"
    },
    {
     "name": "stdout",
     "output_type": "stream",
     "text": [
      "[EPOCH]: 4, [LOSS]: 0.573819, [ACC]: 0.815 \n",
      "[Val_LOSS]: 0.531845, [Val_ACC]: 0.831, [Val_F1]: 0.785\n",
      "Best model on valdtion is Saved with metric :0.785\n"
     ]
    },
    {
     "data": {
      "application/vnd.jupyter.widget-view+json": {
       "model_id": "33e423a45f7a4952acf19ccc9cab27dd",
       "version_major": 2,
       "version_minor": 0
      },
      "text/plain": [
       "  0%|          | 0/230 [00:00<?, ?it/s]"
      ]
     },
     "metadata": {},
     "output_type": "display_data"
    },
    {
     "name": "stdout",
     "output_type": "stream",
     "text": [
      "[EPOCH]: 5, [LOSS]: 0.493505, [ACC]: 0.847 \n",
      "[Val_LOSS]: 0.493238, [Val_ACC]: 0.843, [Val_F1]: 0.815\n",
      "Best model on valdtion is Saved with metric :0.815\n"
     ]
    },
    {
     "data": {
      "application/vnd.jupyter.widget-view+json": {
       "model_id": "47ebef64f1944236a12ea47c2de887b4",
       "version_major": 2,
       "version_minor": 0
      },
      "text/plain": [
       "  0%|          | 0/230 [00:00<?, ?it/s]"
      ]
     },
     "metadata": {},
     "output_type": "display_data"
    },
    {
     "name": "stdout",
     "output_type": "stream",
     "text": [
      "[EPOCH]: 6, [LOSS]: 0.477048, [ACC]: 0.861 \n",
      "[Val_LOSS]: 0.742785, [Val_ACC]: 0.791, [Val_F1]: 0.788\n"
     ]
    },
    {
     "data": {
      "application/vnd.jupyter.widget-view+json": {
       "model_id": "e5cba65e802e4a198f9bc42855cdf7f8",
       "version_major": 2,
       "version_minor": 0
      },
      "text/plain": [
       "  0%|          | 0/230 [00:00<?, ?it/s]"
      ]
     },
     "metadata": {},
     "output_type": "display_data"
    },
    {
     "name": "stdout",
     "output_type": "stream",
     "text": [
      "[EPOCH]: 7, [LOSS]: 0.447168, [ACC]: 0.866 \n",
      "[Val_LOSS]: 0.514673, [Val_ACC]: 0.843, [Val_F1]: 0.812\n"
     ]
    },
    {
     "data": {
      "application/vnd.jupyter.widget-view+json": {
       "model_id": "8dab3997a500402e9ab6a402a0af74af",
       "version_major": 2,
       "version_minor": 0
      },
      "text/plain": [
       "  0%|          | 0/230 [00:00<?, ?it/s]"
      ]
     },
     "metadata": {},
     "output_type": "display_data"
    },
    {
     "name": "stdout",
     "output_type": "stream",
     "text": [
      "[EPOCH]: 8, [LOSS]: 0.428814, [ACC]: 0.876 \n",
      "[Val_LOSS]: 0.536610, [Val_ACC]: 0.828, [Val_F1]: 0.850\n",
      "Best model on valdtion is Saved with metric :0.850\n"
     ]
    },
    {
     "data": {
      "application/vnd.jupyter.widget-view+json": {
       "model_id": "b4ddb7c9cb554349a511281debc40410",
       "version_major": 2,
       "version_minor": 0
      },
      "text/plain": [
       "  0%|          | 0/230 [00:00<?, ?it/s]"
      ]
     },
     "metadata": {},
     "output_type": "display_data"
    },
    {
     "name": "stdout",
     "output_type": "stream",
     "text": [
      "[EPOCH]: 9, [LOSS]: 0.410505, [ACC]: 0.880 \n",
      "[Val_LOSS]: 0.426206, [Val_ACC]: 0.873, [Val_F1]: 0.850\n",
      "Best model on valdtion is Saved with metric :0.850\n"
     ]
    },
    {
     "data": {
      "application/vnd.jupyter.widget-view+json": {
       "model_id": "f57736ccf6524be2af38964964aafc9e",
       "version_major": 2,
       "version_minor": 0
      },
      "text/plain": [
       "  0%|          | 0/230 [00:00<?, ?it/s]"
      ]
     },
     "metadata": {},
     "output_type": "display_data"
    },
    {
     "name": "stdout",
     "output_type": "stream",
     "text": [
      "[EPOCH]: 10, [LOSS]: 0.387906, [ACC]: 0.890 \n",
      "[Val_LOSS]: 0.511456, [Val_ACC]: 0.855, [Val_F1]: 0.853\n",
      "Best model on valdtion is Saved with metric :0.853\n"
     ]
    },
    {
     "data": {
      "application/vnd.jupyter.widget-view+json": {
       "model_id": "e3c45e0d602349c38e475fa36f1211be",
       "version_major": 2,
       "version_minor": 0
      },
      "text/plain": [
       "  0%|          | 0/230 [00:00<?, ?it/s]"
      ]
     },
     "metadata": {},
     "output_type": "display_data"
    },
    {
     "name": "stdout",
     "output_type": "stream",
     "text": [
      "[EPOCH]: 11, [LOSS]: 0.353015, [ACC]: 0.905 \n",
      "[Val_LOSS]: 0.493467, [Val_ACC]: 0.856, [Val_F1]: 0.840\n"
     ]
    },
    {
     "data": {
      "application/vnd.jupyter.widget-view+json": {
       "model_id": "1cfdc38caec74bbf80bf28a694643d09",
       "version_major": 2,
       "version_minor": 0
      },
      "text/plain": [
       "  0%|          | 0/230 [00:00<?, ?it/s]"
      ]
     },
     "metadata": {},
     "output_type": "display_data"
    },
    {
     "name": "stdout",
     "output_type": "stream",
     "text": [
      "[EPOCH]: 12, [LOSS]: 0.342925, [ACC]: 0.909 \n",
      "[Val_LOSS]: 0.620422, [Val_ACC]: 0.783, [Val_F1]: 0.788\n"
     ]
    },
    {
     "data": {
      "application/vnd.jupyter.widget-view+json": {
       "model_id": "617a9f8f503949de8577b12c5ef20fd5",
       "version_major": 2,
       "version_minor": 0
      },
      "text/plain": [
       "  0%|          | 0/230 [00:00<?, ?it/s]"
      ]
     },
     "metadata": {},
     "output_type": "display_data"
    },
    {
     "name": "stdout",
     "output_type": "stream",
     "text": [
      "[EPOCH]: 13, [LOSS]: 0.315586, [ACC]: 0.915 \n",
      "[Val_LOSS]: 0.565756, [Val_ACC]: 0.843, [Val_F1]: 0.809\n"
     ]
    },
    {
     "data": {
      "application/vnd.jupyter.widget-view+json": {
       "model_id": "9299f83a681d4b9792d2a113eb18c503",
       "version_major": 2,
       "version_minor": 0
      },
      "text/plain": [
       "  0%|          | 0/230 [00:00<?, ?it/s]"
      ]
     },
     "metadata": {},
     "output_type": "display_data"
    },
    {
     "name": "stdout",
     "output_type": "stream",
     "text": [
      "[EPOCH]: 14, [LOSS]: 0.318891, [ACC]: 0.917 \n",
      "[Val_LOSS]: 0.436173, [Val_ACC]: 0.879, [Val_F1]: 0.869\n",
      "Best model on valdtion is Saved with metric :0.869\n"
     ]
    },
    {
     "data": {
      "application/vnd.jupyter.widget-view+json": {
       "model_id": "1c16dc46270342a48b941b82d82a8d9e",
       "version_major": 2,
       "version_minor": 0
      },
      "text/plain": [
       "  0%|          | 0/230 [00:00<?, ?it/s]"
      ]
     },
     "metadata": {},
     "output_type": "display_data"
    },
    {
     "name": "stdout",
     "output_type": "stream",
     "text": [
      "[EPOCH]: 15, [LOSS]: 0.303216, [ACC]: 0.918 \n",
      "[Val_LOSS]: 0.447215, [Val_ACC]: 0.855, [Val_F1]: 0.860\n"
     ]
    },
    {
     "data": {
      "application/vnd.jupyter.widget-view+json": {
       "model_id": "d425465d609b4040a7acbdbdd25d1615",
       "version_major": 2,
       "version_minor": 0
      },
      "text/plain": [
       "  0%|          | 0/230 [00:00<?, ?it/s]"
      ]
     },
     "metadata": {},
     "output_type": "display_data"
    },
    {
     "name": "stdout",
     "output_type": "stream",
     "text": [
      "[EPOCH]: 16, [LOSS]: 0.295643, [ACC]: 0.927 \n",
      "[Val_LOSS]: 0.456646, [Val_ACC]: 0.876, [Val_F1]: 0.868\n"
     ]
    },
    {
     "data": {
      "application/vnd.jupyter.widget-view+json": {
       "model_id": "72e3935a85544a1686ae0065c2995f7d",
       "version_major": 2,
       "version_minor": 0
      },
      "text/plain": [
       "  0%|          | 0/230 [00:00<?, ?it/s]"
      ]
     },
     "metadata": {},
     "output_type": "display_data"
    },
    {
     "name": "stdout",
     "output_type": "stream",
     "text": [
      "[EPOCH]: 17, [LOSS]: 0.282806, [ACC]: 0.926 \n",
      "[Val_LOSS]: 0.342892, [Val_ACC]: 0.907, [Val_F1]: 0.891\n",
      "Best model on valdtion is Saved with metric :0.891\n"
     ]
    },
    {
     "data": {
      "application/vnd.jupyter.widget-view+json": {
       "model_id": "37a61e4efea84d028dd3afb702fe7b94",
       "version_major": 2,
       "version_minor": 0
      },
      "text/plain": [
       "  0%|          | 0/230 [00:00<?, ?it/s]"
      ]
     },
     "metadata": {},
     "output_type": "display_data"
    },
    {
     "name": "stdout",
     "output_type": "stream",
     "text": [
      "[EPOCH]: 18, [LOSS]: 0.272109, [ACC]: 0.936 \n",
      "[Val_LOSS]: 0.354346, [Val_ACC]: 0.914, [Val_F1]: 0.894\n",
      "Best model on valdtion is Saved with metric :0.894\n"
     ]
    },
    {
     "data": {
      "application/vnd.jupyter.widget-view+json": {
       "model_id": "e98663518a4e4e8a8cca0d1916e68661",
       "version_major": 2,
       "version_minor": 0
      },
      "text/plain": [
       "  0%|          | 0/230 [00:00<?, ?it/s]"
      ]
     },
     "metadata": {},
     "output_type": "display_data"
    },
    {
     "name": "stdout",
     "output_type": "stream",
     "text": [
      "[EPOCH]: 19, [LOSS]: 0.274671, [ACC]: 0.931 \n",
      "[Val_LOSS]: 0.378479, [Val_ACC]: 0.896, [Val_F1]: 0.887\n"
     ]
    },
    {
     "data": {
      "application/vnd.jupyter.widget-view+json": {
       "model_id": "ee994708484e4c218c33529cb92da918",
       "version_major": 2,
       "version_minor": 0
      },
      "text/plain": [
       "  0%|          | 0/230 [00:00<?, ?it/s]"
      ]
     },
     "metadata": {},
     "output_type": "display_data"
    },
    {
     "name": "stdout",
     "output_type": "stream",
     "text": [
      "[EPOCH]: 20, [LOSS]: 0.268439, [ACC]: 0.939 \n",
      "[Val_LOSS]: 0.335585, [Val_ACC]: 0.917, [Val_F1]: 0.896\n",
      "Best model on valdtion is Saved with metric :0.896\n"
     ]
    },
    {
     "data": {
      "application/vnd.jupyter.widget-view+json": {
       "model_id": "882f0f9c5fd84b48bca7997f0b8bf64b",
       "version_major": 2,
       "version_minor": 0
      },
      "text/plain": [
       "  0%|          | 0/230 [00:00<?, ?it/s]"
      ]
     },
     "metadata": {},
     "output_type": "display_data"
    },
    {
     "name": "stdout",
     "output_type": "stream",
     "text": [
      "[EPOCH]: 21, [LOSS]: 0.258897, [ACC]: 0.941 \n",
      "[Val_LOSS]: 0.433177, [Val_ACC]: 0.892, [Val_F1]: 0.865\n"
     ]
    },
    {
     "data": {
      "application/vnd.jupyter.widget-view+json": {
       "model_id": "cfb412e36b9548dfacb7f1885968a17c",
       "version_major": 2,
       "version_minor": 0
      },
      "text/plain": [
       "  0%|          | 0/230 [00:00<?, ?it/s]"
      ]
     },
     "metadata": {},
     "output_type": "display_data"
    },
    {
     "name": "stdout",
     "output_type": "stream",
     "text": [
      "[EPOCH]: 22, [LOSS]: 0.261256, [ACC]: 0.940 \n",
      "[Val_LOSS]: 0.370834, [Val_ACC]: 0.908, [Val_F1]: 0.893\n"
     ]
    },
    {
     "data": {
      "application/vnd.jupyter.widget-view+json": {
       "model_id": "6fd275b96fea4f5ba2a92da3e2c9e73d",
       "version_major": 2,
       "version_minor": 0
      },
      "text/plain": [
       "  0%|          | 0/230 [00:00<?, ?it/s]"
      ]
     },
     "metadata": {},
     "output_type": "display_data"
    },
    {
     "name": "stdout",
     "output_type": "stream",
     "text": [
      "[EPOCH]: 23, [LOSS]: 0.250279, [ACC]: 0.937 \n",
      "[Val_LOSS]: 0.413506, [Val_ACC]: 0.911, [Val_F1]: 0.880\n"
     ]
    },
    {
     "data": {
      "application/vnd.jupyter.widget-view+json": {
       "model_id": "7957bd9b7c3c415f9cd52c096b873638",
       "version_major": 2,
       "version_minor": 0
      },
      "text/plain": [
       "  0%|          | 0/230 [00:00<?, ?it/s]"
      ]
     },
     "metadata": {},
     "output_type": "display_data"
    },
    {
     "name": "stdout",
     "output_type": "stream",
     "text": [
      "[EPOCH]: 24, [LOSS]: 0.219364, [ACC]: 0.956 \n",
      "[Val_LOSS]: 0.327063, [Val_ACC]: 0.913, [Val_F1]: 0.900\n",
      "Best model on valdtion is Saved with metric :0.900\n"
     ]
    },
    {
     "data": {
      "application/vnd.jupyter.widget-view+json": {
       "model_id": "850f29cf3dad419794da19f109b22f8d",
       "version_major": 2,
       "version_minor": 0
      },
      "text/plain": [
       "  0%|          | 0/230 [00:00<?, ?it/s]"
      ]
     },
     "metadata": {},
     "output_type": "display_data"
    },
    {
     "name": "stdout",
     "output_type": "stream",
     "text": [
      "[EPOCH]: 25, [LOSS]: 0.230901, [ACC]: 0.948 \n",
      "[Val_LOSS]: 0.335677, [Val_ACC]: 0.916, [Val_F1]: 0.892\n"
     ]
    },
    {
     "data": {
      "application/vnd.jupyter.widget-view+json": {
       "model_id": "40f85ebc8ab1410580c06938e39f2250",
       "version_major": 2,
       "version_minor": 0
      },
      "text/plain": [
       "  0%|          | 0/230 [00:00<?, ?it/s]"
      ]
     },
     "metadata": {},
     "output_type": "display_data"
    },
    {
     "name": "stdout",
     "output_type": "stream",
     "text": [
      "[EPOCH]: 26, [LOSS]: 0.225144, [ACC]: 0.951 \n",
      "[Val_LOSS]: 0.379887, [Val_ACC]: 0.902, [Val_F1]: 0.870\n"
     ]
    },
    {
     "data": {
      "application/vnd.jupyter.widget-view+json": {
       "model_id": "69a512db28bc4655b87aba4fa49cfb37",
       "version_major": 2,
       "version_minor": 0
      },
      "text/plain": [
       "  0%|          | 0/230 [00:00<?, ?it/s]"
      ]
     },
     "metadata": {},
     "output_type": "display_data"
    },
    {
     "name": "stdout",
     "output_type": "stream",
     "text": [
      "[EPOCH]: 27, [LOSS]: 0.215693, [ACC]: 0.954 \n",
      "[Val_LOSS]: 0.369980, [Val_ACC]: 0.904, [Val_F1]: 0.889\n"
     ]
    },
    {
     "data": {
      "application/vnd.jupyter.widget-view+json": {
       "model_id": "fa9c8b7149bf45a58bc29f7705a22b8a",
       "version_major": 2,
       "version_minor": 0
      },
      "text/plain": [
       "  0%|          | 0/230 [00:00<?, ?it/s]"
      ]
     },
     "metadata": {},
     "output_type": "display_data"
    },
    {
     "name": "stdout",
     "output_type": "stream",
     "text": [
      "[EPOCH]: 28, [LOSS]: 0.226961, [ACC]: 0.952 \n",
      "[Val_LOSS]: 0.323260, [Val_ACC]: 0.919, [Val_F1]: 0.908\n",
      "Best model on valdtion is Saved with metric :0.908\n"
     ]
    },
    {
     "data": {
      "application/vnd.jupyter.widget-view+json": {
       "model_id": "861a825e032447f3b1fdf8a8a13dda83",
       "version_major": 2,
       "version_minor": 0
      },
      "text/plain": [
       "  0%|          | 0/230 [00:00<?, ?it/s]"
      ]
     },
     "metadata": {},
     "output_type": "display_data"
    }
   ],
   "source": [
    "prams['epochs'] =30\n",
    "prams['learning_rate']= 1e-3\n",
    "\n",
    "#set_parameter_requires_grad(model, requires_grad=False)\n",
    "#set_parameter_requires_grad(model.model.classifier, requires_grad=True)\n",
    "optimizer = optim.NAdam( model.model.parameters(),\n",
    "                 lr=prams['learning_rate'], betas=prams['betas'] )\n",
    "model.train_n_ep(prams['epochs'] ,loader_train,loader_val,criterion,optimizer )\n",
    "\n",
    "model.plot_history()\n",
    "_=model.model_data_monitor(loader_val, criterion)\n",
    "model.history.tail()\n"
   ]
  },
  {
   "cell_type": "code",
   "execution_count": null,
   "id": "180f079a",
   "metadata": {
    "ExecuteTime": {
     "end_time": "2023-02-08T12:39:30.045848Z",
     "start_time": "2023-02-08T12:39:30.045848Z"
    },
    "scrolled": true
   },
   "outputs": [],
   "source": []
  },
  {
   "cell_type": "markdown",
   "id": "c2afbf84",
   "metadata": {},
   "source": [
    "## Monitor loss and acc per epoch"
   ]
  },
  {
   "cell_type": "code",
   "execution_count": null,
   "id": "8dc0ec8a",
   "metadata": {
    "ExecuteTime": {
     "start_time": "2023-02-08T13:06:04.737Z"
    }
   },
   "outputs": [],
   "source": [
    "model.plot_history()\n",
    "_=model.model_data_monitor(loader_val, criterion)"
   ]
  },
  {
   "cell_type": "code",
   "execution_count": null,
   "id": "3b320b4a",
   "metadata": {
    "ExecuteTime": {
     "start_time": "2023-02-08T13:06:04.740Z"
    }
   },
   "outputs": [],
   "source": [
    "model.Load_Weights('Best_model_on_valdtion.pt')\n",
    "model.plot_history()\n",
    "_=model.model_data_monitor(loader_val, criterion)"
   ]
  },
  {
   "cell_type": "code",
   "execution_count": null,
   "id": "8737e5ad",
   "metadata": {
    "ExecuteTime": {
     "start_time": "2023-02-08T13:06:04.743Z"
    }
   },
   "outputs": [],
   "source": [
    "c= ''\n",
    "add_Experiment(model, prams,optimizer,criterion,loader_val,transform_trian,transform_val,c,False)\n",
    "#delet_Experiment('Exp_amr000000')"
   ]
  },
  {
   "cell_type": "code",
   "execution_count": null,
   "id": "a691e08d",
   "metadata": {
    "ExecuteTime": {
     "end_time": "2023-02-07T17:54:30.607594Z",
     "start_time": "2023-02-07T17:54:30.594401Z"
    }
   },
   "outputs": [],
   "source": []
  },
  {
   "cell_type": "code",
   "execution_count": null,
   "id": "22afed3e",
   "metadata": {},
   "outputs": [],
   "source": []
  }
 ],
 "metadata": {
  "kernelspec": {
   "display_name": "Python [conda env:pt] *",
   "language": "python",
   "name": "conda-env-pt-py"
  },
  "language_info": {
   "codemirror_mode": {
    "name": "ipython",
    "version": 3
   },
   "file_extension": ".py",
   "mimetype": "text/x-python",
   "name": "python",
   "nbconvert_exporter": "python",
   "pygments_lexer": "ipython3",
   "version": "3.9.13"
  },
  "toc": {
   "base_numbering": 1,
   "nav_menu": {},
   "number_sections": true,
   "sideBar": true,
   "skip_h1_title": false,
   "title_cell": "Table of Contents",
   "title_sidebar": "Contents",
   "toc_cell": false,
   "toc_position": {
    "height": "calc(100% - 180px)",
    "left": "10px",
    "top": "150px",
    "width": "165px"
   },
   "toc_section_display": true,
   "toc_window_display": false
  },
  "varInspector": {
   "cols": {
    "lenName": 16,
    "lenType": 16,
    "lenVar": 40
   },
   "kernels_config": {
    "python": {
     "delete_cmd_postfix": "",
     "delete_cmd_prefix": "del ",
     "library": "var_list.py",
     "varRefreshCmd": "print(var_dic_list())"
    },
    "r": {
     "delete_cmd_postfix": ") ",
     "delete_cmd_prefix": "rm(",
     "library": "var_list.r",
     "varRefreshCmd": "cat(var_dic_list()) "
    }
   },
   "oldHeight": 415.844,
   "position": {
    "height": "437.844px",
    "left": "1005px",
    "right": "20px",
    "top": "121px",
    "width": "322px"
   },
   "types_to_exclude": [
    "module",
    "function",
    "builtin_function_or_method",
    "instance",
    "_Feature"
   ],
   "varInspector_section_display": "block",
   "window_display": false
  }
 },
 "nbformat": 4,
 "nbformat_minor": 5
}
