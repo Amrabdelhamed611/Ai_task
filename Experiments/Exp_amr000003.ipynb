{
 "cells": [
  {
   "cell_type": "markdown",
   "id": "94c579c4",
   "metadata": {},
   "source": [
    "## Import libraries"
   ]
  },
  {
   "cell_type": "code",
   "execution_count": 1,
   "id": "14cc2003",
   "metadata": {
    "ExecuteTime": {
     "end_time": "2023-02-08T13:49:59.121167Z",
     "start_time": "2023-02-08T13:49:55.775148Z"
    }
   },
   "outputs": [],
   "source": [
    "import numpy as np\n",
    "import pandas as pd\n",
    "import matplotlib.pyplot as plt\n",
    "import seaborn as sns\n",
    "import os ,shutil ,copy ,time ,gc  ,random , timm\n",
    "from sklearn.metrics import ConfusionMatrixDisplay,confusion_matrix,f1_score\n",
    "from tqdm.notebook import tqdm\n",
    "import torch ,torchinfo\n",
    "import torch.nn as nn\n",
    "import torch.nn.functional as F\n",
    "import torch.optim as optim\n",
    "from torch import utils\n",
    "from torchvision import datasets, transforms ,models\n",
    "from torch.cuda.amp import GradScaler ,autocast\n",
    "from IPython import display as ipdisplay\n",
    " \n",
    "device = torch.device(\"cuda:0\" if torch.cuda.is_available() else \"cpu\")"
   ]
  },
  {
   "cell_type": "markdown",
   "id": "80d1030d",
   "metadata": {},
   "source": [
    "## seed Everything \n",
    "For Reproducibility "
   ]
  },
  {
   "cell_type": "code",
   "execution_count": 2,
   "id": "c49c5dc1",
   "metadata": {
    "ExecuteTime": {
     "end_time": "2023-02-08T13:49:59.201152Z",
     "start_time": "2023-02-08T13:49:59.123163Z"
    },
    "code_folding": [],
    "run_control": {
     "marked": false
    }
   },
   "outputs": [],
   "source": [
    "def seed_everything(seed):\n",
    "    \"\"\"\n",
    "    Seeds basic parameters for reproductibility of results\n",
    "\n",
    "    Arguments:\n",
    "        seed {int} -- Number of the seed\n",
    "    \"\"\"\n",
    "    random.seed(seed)\n",
    "    os.environ[\"PYTHONHASHSEED\"] = str(seed)\n",
    "    np.random.seed(seed)\n",
    "    torch.manual_seed(seed)\n",
    "    torch.cuda.manual_seed(seed)\n",
    "    torch.backends.cudnn.deterministic = True\n",
    "    torch.backends.cudnn.benchmark = True\n",
    "    torch.cuda.empty_cache()\n",
    "    gc.collect()\n",
    "    torch.autograd.set_detect_anomaly(False)\n",
    "    torch.autograd.profiler.emit_nvtx(enabled=False, record_shapes=False)\n",
    "    torch.autograd.profiler.profile(enabled=False)\n",
    "seed_everything(6)"
   ]
  },
  {
   "cell_type": "code",
   "execution_count": 3,
   "id": "07bc6cb8",
   "metadata": {
    "ExecuteTime": {
     "end_time": "2023-02-08T13:49:59.216120Z",
     "start_time": "2023-02-08T13:49:59.202152Z"
    }
   },
   "outputs": [],
   "source": [
    "\n",
    "def add_Experiment(model_p, pramas,opt,lossfn,loader_v,transform_t,transform_v,comment='',warning_commet=True):\n",
    "    path= 'Experiments/'\n",
    "    sub_id=\"amr\"\n",
    "    comment = \"\"\n",
    "    if not os.path.isdir('Experiments'):\n",
    "        os.mkdir('Experiments')\n",
    "    if not os.path.isfile('Experiments/Experiments.csv'):\n",
    "        pd.DataFrame(columns=[\"Experiment_id\",\n",
    "                              \"Acc_t\",\"Acc_v\",\n",
    "                              \"Loss_t\",\"Loss_v\",\n",
    "                              \"epochs\",\"Batch\", \n",
    "                              \"time_ep(min)\",\n",
    "                              \"Model_name\",\n",
    "                              \"Model_prams\",\n",
    "                              \"pre_weights\",\n",
    "                              \"opt_Name\",\n",
    "                              \"opt_learning_rate\",\n",
    "                              \"opt_betas\",\n",
    "                              \"opt_decay\",\n",
    "                              \"lossfn_name\",\n",
    "                              \"lossfn_reduction\",\n",
    "                              \"lossfn_class_weights\",\n",
    "                              \"classes_num\",\n",
    "                              \"classes_names\",\n",
    "                              \"sampels/class\",\n",
    "                              \"Augmentation_T\",\n",
    "                              \"Augmentation_V\",\n",
    "                              \"NoteBook_file_name\",\n",
    "                              \"weights_file_name\",\n",
    "                              \"fig_file_name\",\n",
    "                              \"comment\"]).to_csv(path+'Experiments.csv',index= False)\n",
    "        \n",
    "    \n",
    "    if warning_commet:\n",
    "        comment = input('if you dont pass comment you can write one or interrupt the kernal. ')\n",
    "    \n",
    "    df= pd.read_csv(path+'Experiments.csv')\n",
    "    exp_id=sub_id+f\"{len(df):06}\"\n",
    "    ep= model_p.history['Validation_Accuracy'].argmax()\n",
    "    loss_t , acc_t,loss_v,acc_v,_= model_p.history.iloc[ep,:]\n",
    "    ep_time= model_p.history['epoch_time'].mean()/60\n",
    "    m= ModeL(pramas['n_classes']).to(device) \n",
    "    m.Load_Weights('Best_model_on_valdtion.pt')\n",
    "    fig,ax= m.model_data_monitor(loader_v, lossfn)\n",
    "    ipdisplay.clear_output()\n",
    "    model_w_file= 'Exp_'+exp_id+'.pt'\n",
    "    model_fig= 'Exp_'+exp_id+'.png'\n",
    "    note_book= 'Exp_'+exp_id+'.ipynb'\n",
    "\n",
    "    exp={\"Experiment_id\":exp_id,\n",
    "         \"Acc_t\":acc_t,\n",
    "         \"Acc_v\":acc_v,\n",
    "         \"Loss_t\":loss_t,\n",
    "         \"Loss_v\":loss_v,\n",
    "         \"epochs\":ep,\n",
    "         \"Batch\":pramas['batchsize'], \n",
    "         \"time_ep(min)\": ep_time,\n",
    "         \"Model_name\":model_p.name,\n",
    "         \"Model_prams\":model_p.pramters_number,\n",
    "         \"pre_weights\":model_p.pre_trained_w,\n",
    "         \"opt_Name\":str(type(opt))[20:-2],\n",
    "         \"opt_learning_rate\":pramas['learning_rate'],\n",
    "         \"opt_betas\":pramas['betas'],\n",
    "         \"opt_decay\":pramas['weight_decay'],\n",
    "         \"lossfn_name\":str(lossfn)[:-2],\n",
    "         \"lossfn_reduction\":lossfn.reduction,\n",
    "         \"lossfn_class_weights\":lossfn.weight.tolist(),\n",
    "         \"classes_num\":pramas['n_classes'],\n",
    "         \"classes_names\":pramas['sub_classes'],\n",
    "         \"sampels/class\":pramas['samples_per_class'],\n",
    "         \"Augmentation_T\":transform_t.transforms,\n",
    "         \"Augmentation_V\":transform_v.transforms,\n",
    "         \"NoteBook_file_name\":note_book,\n",
    "         \"weights_file_name\":model_w_file,\n",
    "         \"fig_file_name\":model_fig,\n",
    "         \"comment\":comment}\n",
    "    \n",
    "    df = df.append(exp,ignore_index=True)\n",
    "    shutil.copyfile('Best_model_on_valdtion.pt',path+model_w_file)\n",
    "    shutil.copyfile('train.ipynb',path+note_book)\n",
    "    fig.savefig(path+model_fig)\n",
    "    df.to_csv(path+'Experiments.csv',index= False)\n",
    "    print(\"Experiment recorded\")\n",
    "    \n",
    "def delet_Experiment(exp_id):\n",
    "    path= 'Experiments/'\n",
    "    model_w_file=path+ 'Exp_'+exp_id+'.pt'\n",
    "    model_fig= path+'Exp_'+exp_id+'.png'\n",
    "    note_book= path+'Exp_'+exp_id+'.ipynb'\n",
    "    df= pd.read_csv(path+'Experiments.csv')\n",
    "    idx = df.loc[df['Experiment_id'] == exp_id,:].index\n",
    "    df.drop(idx,inplace=True)\n",
    "    \n",
    "    if os.path.isdir( model_w_file):\n",
    "        os.remove(model_w_file)\n",
    "        print(f'model wieght {model_w_file} deleted')\n",
    "    if os.path.isdir( model_w_file):\n",
    "        os.remove(model_fig)\n",
    "        print(f'model conf matrix {model_fig} deleted')\n",
    "    if os.path.isdir( model_w_file):\n",
    "        os.remove(note_book)\n",
    "        print(f'model Note Book {note_book} deleted')\n",
    "    df.to_csv(path+'Experiments.csv',index= False)"
   ]
  },
  {
   "cell_type": "markdown",
   "id": "93e69943",
   "metadata": {},
   "source": [
    "### Data Loader Function"
   ]
  },
  {
   "cell_type": "code",
   "execution_count": 4,
   "id": "06372629",
   "metadata": {
    "ExecuteTime": {
     "end_time": "2023-02-08T13:49:59.232148Z",
     "start_time": "2023-02-08T13:49:59.219118Z"
    },
    "code_folding": [],
    "run_control": {
     "marked": false
    }
   },
   "outputs": [],
   "source": [
    "def load_date(image_transformtions ,batch_size=32, \n",
    "              load_classes=[] ,n_samples_per_class=None, Set ='train',verbose = True):  \n",
    "    assert (len(load_classes) != 1 ) , f\"Number Of Classes Must be at least two\"\n",
    "    classes =['bus', 'crossover', 'hatchback', 'motorcycle', 'pickup-truck', 'sedan', 'truck', 'van']\n",
    "    PATH = 'A:/Aiactive/'\n",
    "    if (len(load_classes) ==0):     \n",
    "        data_dir = PATH + Set \n",
    "    else : \n",
    "        for c in load_classes:\n",
    "             assert (c in classes) , f\"classes you want to keep dosnot match {classes}\"\n",
    "        data_dir = PATH +'datasymbolic/'+Set\n",
    "        shutil.rmtree(data_dir) if os.path.isdir(data_dir) else ''\n",
    "        os.mkdir(data_dir)\n",
    "        [os.symlink(PATH+Set+'/'+clas,data_dir+'/'+clas ) for clas in load_classes]\n",
    "    \n",
    "        \n",
    "    dataset = datasets.ImageFolder(data_dir, transform=image_transformtions) \n",
    "    df = pd.DataFrame(dataset.imgs,columns=['image','Labels'])\n",
    "    df =  df.sample(frac=1, replace=False, random_state=6).reset_index(drop=True)\n",
    "    g= pd.DataFrame(df.groupby('Labels').size() ,columns=['Found_Samples'])\n",
    "    g['Class'] = dataset.class_to_idx.keys()\n",
    "    g =g[['Class','Found_Samples']]\n",
    "    \n",
    "    if n_samples_per_class != None:\n",
    "        df = df.groupby('Labels').sample(n=n_samples_per_class, replace=True, random_state=6)\n",
    "      \n",
    "    df =df.groupby('Labels').sample(frac=1, replace=False, random_state=6)\n",
    "    g['Loaded_Samples'] = pd.DataFrame(df.groupby('Labels').size() ,columns=['samples'])['samples']\n",
    "    #g.iloc[1,0]\n",
    "    \n",
    "    sampler = torch.utils.data.SubsetRandomSampler(df.index.tolist())\n",
    "    drop_last =  True if Set =='train' else False\n",
    "    dataloader = torch.utils.data.DataLoader(dataset,\n",
    "                                             sampler=sampler,\n",
    "                                             batch_size=batch_size, \n",
    "                                             shuffle=False ,\n",
    "                                             pin_memory=True,\n",
    "                                             drop_last= drop_last,\n",
    "                                             num_workers=2) \n",
    "    if verbose:\n",
    "        print(f'Sampels Found by loader') \n",
    "        display(g)\n",
    "\n",
    "    return dataloader"
   ]
  },
  {
   "cell_type": "code",
   "execution_count": 5,
   "id": "ee2ea364",
   "metadata": {
    "ExecuteTime": {
     "end_time": "2023-02-08T13:49:59.247491Z",
     "start_time": "2023-02-08T13:49:59.233141Z"
    }
   },
   "outputs": [],
   "source": [
    "#timm.create_model('adv_inception_v3', pretrained=0) "
   ]
  },
  {
   "cell_type": "markdown",
   "id": "9a03b74c",
   "metadata": {},
   "source": [
    "###  Model "
   ]
  },
  {
   "cell_type": "code",
   "execution_count": null,
   "id": "2e6676d6",
   "metadata": {
    "ExecuteTime": {
     "start_time": "2023-02-08T14:34:17.221Z"
    },
    "code_folding": [
     148
    ],
    "run_control": {
     "marked": false
    }
   },
   "outputs": [],
   "source": [
    "class ModeL(nn.Module):\n",
    "    def __init__(self, n_classes,imagenet_weights=True,device= 'cuda'):\n",
    "        super(ModeL, self).__init__()\n",
    "        self.name = 'resnext50d_32x4d'\n",
    "        self.pre_trained_w = imagenet_weights\n",
    "        \n",
    "        self._creat_Model(n_classes,imagenet_weights)\n",
    "        \n",
    "        self.history =pd.DataFrame(columns=[\"Training_Loss\",\"Training_Accuracy\",\"Validation_Loss\",\"Validation_Accuracy\",\"epoch_time\"])\n",
    "        self.pramters_number = self.model_Info()\n",
    "        \n",
    "        \n",
    "    def _creat_Model(self,out_features , pretrained=True):\n",
    "        self.model = timm.create_model(self.name, pretrained=pretrained)   \n",
    "        in_f = self.model.fc.in_features\n",
    "        self.model.fc = nn.Sequential(\n",
    "            nn.Linear(in_features=in_f, out_features=out_features, bias=True),\n",
    "            nn.LogSoftmax(dim=1) ) \n",
    "        self.model.to(device)\n",
    "        \n",
    "    \n",
    "    def model_Info(self,summary =False ):\n",
    "        prams=0\n",
    "        for p in list(self.model.parameters()):\n",
    "            prams += p.nelement()\n",
    "        prams = np.round(prams/10**6,2)\n",
    "        if summary:\n",
    "            print(f'model parameters: {prams} M')\n",
    "            print(torchinfo.summary(model)) if summary else ''\n",
    "        return prams\n",
    "    \n",
    "    def Load_Weights(self,load_weights_path ):\n",
    "        state = torch.load(load_weights_path)\n",
    "        self.load_state_dict(state['state_dict'])\n",
    "\n",
    "    @autocast()    \n",
    "    def forward(self, x):\n",
    "        x = self.model(x)\n",
    "        return x\n",
    "    \n",
    "    def _track_history(self,T_Loss,T_Acc,V_Loss,V_Acc,t_ep):\n",
    "        s = pd.Series([T_Loss,T_Acc,V_Loss,V_Acc,t_ep] ,index= self.history.columns)\n",
    "        self.history = self.history.append(s,ignore_index=True)\n",
    "        \n",
    "    def save_model(self,best_metric,current_metric,name,epoch):\n",
    "        if current_metric >= best_metric:\n",
    "            state = {'epoch': epoch,\n",
    "                     'state_dict': self.state_dict()}\n",
    "            torch.save(state, name+'.pt')\n",
    "            best_metric = current_metric\n",
    "            print(f\"%s is Saved with metric :%.3f\" % (str(name).replace(\"_\",\" \"),best_metric ))\n",
    "        return best_metric\n",
    "    \n",
    "    def train_one_epoch(self, loader_train, criterion, optimizer,scaler ,device= 'cuda'):\n",
    "        # keep track of training loss\n",
    "        epoch_loss = 0.0\n",
    "        epoch_accuracy = 0.0\n",
    "        ###################\n",
    "        # train the model #\n",
    "        ###################\n",
    "        self.model.train()\n",
    "        for  (data, target) in tqdm(loader_train):\n",
    "            # move tensors to GPU if CUDA is available\n",
    "            data ,target = data.to(device), target.to(device )\n",
    "            #clear the gradients of all optimized variables\n",
    "            optimizer.zero_grad()\n",
    "            # forward pass: compute predicted outputs by passing inputs to the model\n",
    "            # calculate the batch loss\n",
    "            predictions = self.model(data)\n",
    "            loss = criterion(predictions, target)\n",
    "            # backward pass: compute gradient of the loss with respect to model parameters\n",
    "            loss.backward()\n",
    "            optimizer.step()\n",
    "            acc= (predictions.argmax(dim=1) == target).cpu().numpy().mean()\n",
    "            # one steps\n",
    "            epoch_loss +=loss.detach().item()\n",
    "            epoch_accuracy += acc\n",
    "            #del predictions ,data , target ,loss,acc\n",
    "            #gc.collect()\n",
    "            #torch.cuda.empty_cache()\n",
    "        return  epoch_loss/len(loader_train), epoch_accuracy/len(loader_train)\n",
    "        \n",
    "    def _validate_one_epoch(self, loader, criterion, device= 'cuda'):\n",
    "        # keep track of validation loss\n",
    "        epoch_loss = 0.0\n",
    "        epoch_accuracy = 0.0\n",
    "        self.model.eval()\n",
    "        y_df = pd.DataFrame(columns= [\"Target\",\"predictions\"])\n",
    "        ######################\n",
    "        # validate the model #\n",
    "        ######################\n",
    "        for data, target in loader:\n",
    "            # move tensors to GPU if CUDA is available\n",
    "            data ,target = data.to(device), target.to(device)\n",
    "\n",
    "            with torch.no_grad():\n",
    "                # forward pass: compute predicted outputs by passing inputs to the model\n",
    "                \n",
    "                predictions = self.model(data)\n",
    "                # calculate the batch loss\n",
    "                loss = criterion(predictions, target)\n",
    "                # Calculate Accuracy\n",
    "                acc = (predictions.argmax(dim=1) == target).cpu().numpy().mean()\n",
    "                # update average validation loss and accuracy\n",
    "                epoch_loss += loss.detach().item()\n",
    "                epoch_accuracy += acc\n",
    "                \n",
    "            y_df = y_df.append(pd.DataFrame({\"Target\":target.cpu().numpy().reshape(-1) ,\n",
    "                                            \"predictions\":predictions.argmax(dim=1).cpu().numpy().reshape(-1)  }),\n",
    "                                                   ignore_index=True)\n",
    "        \n",
    "       # del predictions ,data , target ,loss,acc\n",
    "       # gc.collect()\n",
    "        #torch.cuda.empty_cache()\n",
    "        return  epoch_loss/len(loader), epoch_accuracy/len(loader),y_df \n",
    "    \n",
    "    def validate_one_epoch(self, loader, criterion, device= 'cuda'):\n",
    "        loss,acc,y_df =self._validate_one_epoch(loader, criterion, device= device)\n",
    "        f1= f1_score(y_df[\"Target\"].tolist(), y_df[\"predictions\"].tolist(), average='macro')\n",
    "        return loss,acc , f1\n",
    "    \n",
    "    def plot_history(self):\n",
    "        fig,ax=plt.subplots(1,2,figsize = (16,4))\n",
    "        ax[0]= self._plot(ax[0], self.history.index+1,self.history['Training_Loss'],self.history['Validation_Loss'],'Loss' )\n",
    "        ax[1]= self._plot(ax[1], self.history.index+1,self.history['Training_Accuracy'],self.history['Validation_Accuracy'],'Accuracy')\n",
    "        #ax[1].set_ylim([.20, .80])\n",
    "        plt.show()\n",
    "        \n",
    "    def _plot(self, ax, ep,trian,val,plot_name ):\n",
    "        ax.plot(ep, trian,label = \"Training\",color = 'blue')\n",
    "        ax.plot(ep, val ,label = \"Valdtion\",color = 'red')\n",
    "        ax.set_title(f\"{plot_name} per Epoch\",font ={'weight' : 'bold'}) \n",
    "        ax.legend()\n",
    "        ax.set_xlabel(\"Epochs\",font ={'weight' : 'bold'})\n",
    "        ax.set_ylabel(f\"{plot_name}\",font ={'weight' : 'bold'})\n",
    "        return ax\n",
    "    \n",
    "    def model_data_monitor(self,loader, criterion, device= 'cuda' ): \n",
    "\n",
    "        loss, acc, y_df = self._validate_one_epoch( loader, criterion, device= device)\n",
    "        y_df[\"eq\"] = (y_df[\"Target\" ] == y_df[\"predictions\" ])\n",
    "        mapper = {v:k for k,v in loader.dataset.class_to_idx.items()}\n",
    "        y_df[\"Target\" ] = y_df[\"Target\" ].map(mapper) \n",
    "        y_df[\"predictions\" ] = y_df[\"predictions\"].map(mapper) \n",
    "        g= y_df.groupby(['Target','eq'])\\\n",
    "                .agg('size').div(y_df.shape[0])\\\n",
    "                .sort_index( ascending=[True,False]).unstack()\n",
    "\n",
    "        plt.rc('font', **{'size'   : 13})\n",
    "        print(f'Accuracy : {g.sum(0).values[1]} ,Error:{g.sum(0).values[0]} ')\n",
    "        fig,ax=plt.subplots(1,2,figsize = (16,6))\n",
    "        ConfusionMatrixDisplay(confusion_matrix(y_df[\"Target\" ], y_df[\"predictions\" ]  )\n",
    "                              ,display_labels=list(loader.dataset.classes) ).plot(ax=ax[0], xticks_rotation= 45)\n",
    "        ax[0].set_title(\"Confusion Matrix\",font ={'weight' : 'bold'})\n",
    "        ax[0].set_xlabel('Predictions',font ={'weight' : 'bold'})\n",
    "        ax[0].set_ylabel('True ',font ={'weight' : 'bold'})\n",
    "        sns.heatmap(g,annot=True,ax=ax[1])\n",
    "        ax[1].tick_params(axis='y', rotation=0)\n",
    "        ax[1].set_xlabel('Predictions',font ={'weight' : 'bold'})\n",
    "        ax[1].set_ylabel('classes',font ={'weight' : 'bold'})\n",
    "        ax[1].set_title(\"Error / Accuracy for each Class\",font ={'weight' : 'bold'})\n",
    "        plt.show()\n",
    "        #del g, fig,ax, y_df\n",
    "        torch.cuda.empty_cache()\n",
    "        return fig,ax\n",
    "    \n",
    "    def train_n_ep(self,epochs,loader_train,loader_val,criterion,optimizer,device = 'cuda'):\n",
    "        best_metric = 0 if len(self.history)==0 else self.history[\"Validation_Accuracy\"].max()\n",
    "        scaler = GradScaler(enabled=True,)\n",
    "        \n",
    "\n",
    "        for epoch in range(1,epochs+1):\n",
    "            start_time = time.time()\n",
    "            loss, acc= self.train_one_epoch(loader_train, criterion, optimizer, scaler =scaler ,device= device)\n",
    "            loss_val, acc_val ,f1_val = self.validate_one_epoch(loader_val, criterion, device)\n",
    "            run_time= (time.time() - start_time)\n",
    "            self._track_history(loss, acc,loss_val, acc_val,run_time)\n",
    "            # ipdisplay.clear_output()\n",
    "            print(f\"[EPOCH]: %i, [LOSS]: %.6f, [ACC]: %.3f\" % (epoch, loss, acc),\n",
    "                  \"\\n[Val_LOSS]: %.6f, [Val_ACC]: %.3f, [Val_F1]: %.3f\" % ( loss_val, acc_val , f1_val))\n",
    "\n",
    "            best_metric= self.save_model(best_metric,f1_val,\"Best_model_on_valdtion\",epoch)"
   ]
  },
  {
   "cell_type": "code",
   "execution_count": 7,
   "id": "42dbd340",
   "metadata": {
    "ExecuteTime": {
     "end_time": "2023-02-08T13:49:59.294164Z",
     "start_time": "2023-02-08T13:49:59.279923Z"
    },
    "code_folding": [],
    "run_control": {
     "marked": false
    }
   },
   "outputs": [],
   "source": [
    "def set_parameter_requires_grad(model, requires_grad,block= 0,sub_block=0):\n",
    "   # the model has 9 layers in layer 4 has 7 invetred res blocks 1 - 7\n",
    "    # block pramter uses to set grad for outer layers 1 to 9 \n",
    "    # sub_block pramter uses to set grad for invetred res blocks in outter layers 4 so set grad for invetred res blocks\n",
    "                #use block = 4  and set sub_block from 1 to 7\n",
    "    sub_block = sub_block if block == 4 else 0\n",
    "    #print(sub_block)\n",
    "    for i,Blk in enumerate(model.children(),1): \n",
    "        if (block ==4 )and(i ==4) :\n",
    "            for j,sBlk in enumerate(Blk.children(),1):\n",
    "                if j >=sub_block :\n",
    "                    for p in sBlk.parameters():\n",
    "                        p.requires_grad = requires_grad\n",
    "        elif i >= block: \n",
    "            for p in Blk.parameters():\n",
    "                p.requires_grad = requires_grad\n",
    "                    "
   ]
  },
  {
   "cell_type": "markdown",
   "id": "39426734",
   "metadata": {},
   "source": [
    "## Hyper-parameters"
   ]
  },
  {
   "cell_type": "code",
   "execution_count": 8,
   "id": "e116bd68",
   "metadata": {
    "ExecuteTime": {
     "end_time": "2023-02-08T13:49:59.358150Z",
     "start_time": "2023-02-08T13:49:59.295085Z"
    }
   },
   "outputs": [],
   "source": [
    "#['Anger','Contempt','Disgust','Fear','Happiness','Neutral','Sadness','Surprise']\n",
    "seed_everything(48)\n",
    "prams = {}\n",
    "prams['batchsize']= 16\n",
    "prams['learning_rate']= 3e-5\n",
    "prams['betas'] =(0.9, 0.999)\n",
    "prams['weight_decay'] = 1e-3\n",
    "prams['sub_classes'] = ['bus', 'crossover', 'hatchback', 'motorcycle', 'pickup-truck', 'sedan', 'truck', 'van']\n",
    "prams['samples_per_class'] =None\n",
    "prams['n_classes'] = len(prams['sub_classes'])\n",
    "#prams['classes_weights'] = torch.tensor([21.07478833490122, 1.0, 5.279665344279037, 9.539744499645138],dtype=torch.float16, device=device)"
   ]
  },
  {
   "cell_type": "markdown",
   "id": "5b4c37d2",
   "metadata": {},
   "source": [
    "## create data loaders"
   ]
  },
  {
   "cell_type": "code",
   "execution_count": 9,
   "id": "b5faf15f",
   "metadata": {
    "ExecuteTime": {
     "end_time": "2023-02-08T13:49:59.422075Z",
     "start_time": "2023-02-08T13:49:59.359048Z"
    }
   },
   "outputs": [
    {
     "name": "stdout",
     "output_type": "stream",
     "text": [
      "Sampels Found by loader\n"
     ]
    },
    {
     "data": {
      "text/html": [
       "<div>\n",
       "<style scoped>\n",
       "    .dataframe tbody tr th:only-of-type {\n",
       "        vertical-align: middle;\n",
       "    }\n",
       "\n",
       "    .dataframe tbody tr th {\n",
       "        vertical-align: top;\n",
       "    }\n",
       "\n",
       "    .dataframe thead th {\n",
       "        text-align: right;\n",
       "    }\n",
       "</style>\n",
       "<table border=\"1\" class=\"dataframe\">\n",
       "  <thead>\n",
       "    <tr style=\"text-align: right;\">\n",
       "      <th></th>\n",
       "      <th>Class</th>\n",
       "      <th>Found_Samples</th>\n",
       "      <th>Loaded_Samples</th>\n",
       "    </tr>\n",
       "    <tr>\n",
       "      <th>Labels</th>\n",
       "      <th></th>\n",
       "      <th></th>\n",
       "      <th></th>\n",
       "    </tr>\n",
       "  </thead>\n",
       "  <tbody>\n",
       "    <tr>\n",
       "      <th>0</th>\n",
       "      <td>bus</td>\n",
       "      <td>77</td>\n",
       "      <td>77</td>\n",
       "    </tr>\n",
       "    <tr>\n",
       "      <th>1</th>\n",
       "      <td>crossover</td>\n",
       "      <td>480</td>\n",
       "      <td>480</td>\n",
       "    </tr>\n",
       "    <tr>\n",
       "      <th>2</th>\n",
       "      <td>hatchback</td>\n",
       "      <td>419</td>\n",
       "      <td>419</td>\n",
       "    </tr>\n",
       "    <tr>\n",
       "      <th>3</th>\n",
       "      <td>motorcycle</td>\n",
       "      <td>95</td>\n",
       "      <td>95</td>\n",
       "    </tr>\n",
       "    <tr>\n",
       "      <th>4</th>\n",
       "      <td>pickup-truck</td>\n",
       "      <td>357</td>\n",
       "      <td>357</td>\n",
       "    </tr>\n",
       "    <tr>\n",
       "      <th>5</th>\n",
       "      <td>sedan</td>\n",
       "      <td>1581</td>\n",
       "      <td>1581</td>\n",
       "    </tr>\n",
       "    <tr>\n",
       "      <th>6</th>\n",
       "      <td>truck</td>\n",
       "      <td>258</td>\n",
       "      <td>258</td>\n",
       "    </tr>\n",
       "    <tr>\n",
       "      <th>7</th>\n",
       "      <td>van</td>\n",
       "      <td>418</td>\n",
       "      <td>418</td>\n",
       "    </tr>\n",
       "  </tbody>\n",
       "</table>\n",
       "</div>"
      ],
      "text/plain": [
       "               Class  Found_Samples  Loaded_Samples\n",
       "Labels                                             \n",
       "0                bus             77              77\n",
       "1          crossover            480             480\n",
       "2          hatchback            419             419\n",
       "3         motorcycle             95              95\n",
       "4       pickup-truck            357             357\n",
       "5              sedan           1581            1581\n",
       "6              truck            258             258\n",
       "7                van            418             418"
      ]
     },
     "metadata": {},
     "output_type": "display_data"
    },
    {
     "name": "stdout",
     "output_type": "stream",
     "text": [
      "Sampels Found by loader\n"
     ]
    },
    {
     "data": {
      "text/html": [
       "<div>\n",
       "<style scoped>\n",
       "    .dataframe tbody tr th:only-of-type {\n",
       "        vertical-align: middle;\n",
       "    }\n",
       "\n",
       "    .dataframe tbody tr th {\n",
       "        vertical-align: top;\n",
       "    }\n",
       "\n",
       "    .dataframe thead th {\n",
       "        text-align: right;\n",
       "    }\n",
       "</style>\n",
       "<table border=\"1\" class=\"dataframe\">\n",
       "  <thead>\n",
       "    <tr style=\"text-align: right;\">\n",
       "      <th></th>\n",
       "      <th>Class</th>\n",
       "      <th>Found_Samples</th>\n",
       "      <th>Loaded_Samples</th>\n",
       "    </tr>\n",
       "    <tr>\n",
       "      <th>Labels</th>\n",
       "      <th></th>\n",
       "      <th></th>\n",
       "      <th></th>\n",
       "    </tr>\n",
       "  </thead>\n",
       "  <tbody>\n",
       "    <tr>\n",
       "      <th>0</th>\n",
       "      <td>bus</td>\n",
       "      <td>20</td>\n",
       "      <td>20</td>\n",
       "    </tr>\n",
       "    <tr>\n",
       "      <th>1</th>\n",
       "      <td>crossover</td>\n",
       "      <td>120</td>\n",
       "      <td>120</td>\n",
       "    </tr>\n",
       "    <tr>\n",
       "      <th>2</th>\n",
       "      <td>hatchback</td>\n",
       "      <td>105</td>\n",
       "      <td>105</td>\n",
       "    </tr>\n",
       "    <tr>\n",
       "      <th>3</th>\n",
       "      <td>motorcycle</td>\n",
       "      <td>22</td>\n",
       "      <td>22</td>\n",
       "    </tr>\n",
       "    <tr>\n",
       "      <th>4</th>\n",
       "      <td>pickup-truck</td>\n",
       "      <td>90</td>\n",
       "      <td>90</td>\n",
       "    </tr>\n",
       "    <tr>\n",
       "      <th>5</th>\n",
       "      <td>sedan</td>\n",
       "      <td>396</td>\n",
       "      <td>396</td>\n",
       "    </tr>\n",
       "    <tr>\n",
       "      <th>6</th>\n",
       "      <td>truck</td>\n",
       "      <td>65</td>\n",
       "      <td>65</td>\n",
       "    </tr>\n",
       "    <tr>\n",
       "      <th>7</th>\n",
       "      <td>van</td>\n",
       "      <td>105</td>\n",
       "      <td>105</td>\n",
       "    </tr>\n",
       "  </tbody>\n",
       "</table>\n",
       "</div>"
      ],
      "text/plain": [
       "               Class  Found_Samples  Loaded_Samples\n",
       "Labels                                             \n",
       "0                bus             20              20\n",
       "1          crossover            120             120\n",
       "2          hatchback            105             105\n",
       "3         motorcycle             22              22\n",
       "4       pickup-truck             90              90\n",
       "5              sedan            396             396\n",
       "6              truck             65              65\n",
       "7                van            105             105"
      ]
     },
     "metadata": {},
     "output_type": "display_data"
    }
   ],
   "source": [
    "#transforms.Grayscale(num_output_channels=1)\n",
    "IMG_SIZE = 260\n",
    "transform_trian = transforms.Compose([\n",
    "                                      transforms.RandomHorizontalFlip(p=0.25),\n",
    "                                      transforms.RandomVerticalFlip(p=0.25),\n",
    "                                      transforms.RandomRotation(degrees=(-40,40)),\n",
    "                                      transforms.RandomPerspective(distortion_scale=0.5, p=0.2),\n",
    "                                      transforms.Resize((IMG_SIZE,IMG_SIZE)),\n",
    "                                      transforms.ToTensor(),\n",
    "                                      transforms.Normalize((0.485, 0.456, 0.406), (0.229, 0.224, 0.225))\n",
    "                                                               ])# TODO: compose transforms here\n",
    "transform_val= transforms.Compose([\n",
    "                                    transforms.Resize((IMG_SIZE,IMG_SIZE)),\n",
    "                                    transforms.ToTensor(),\n",
    "                                    transforms.Normalize((0.485, 0.456, 0.406), (0.229, 0.224, 0.225))\n",
    "                                                            ])# TODO: compose transforms here\n",
    "\n",
    "loader_train =load_date(batch_size=prams['batchsize'],\n",
    "                        image_transformtions = transform_trian,\n",
    "                        load_classes=prams['sub_classes'] ,\n",
    "                        n_samples_per_class=prams['samples_per_class'],\n",
    "                        Set ='train',verbose = True)\n",
    "\n",
    "loader_val =load_date(batch_size=prams['batchsize'],\n",
    "                      image_transformtions = transform_val,\n",
    "                        load_classes=prams['sub_classes'] ,\n",
    "                        n_samples_per_class=None,Set ='test',verbose = True)"
   ]
  },
  {
   "cell_type": "code",
   "execution_count": 10,
   "id": "a484dc0f",
   "metadata": {
    "ExecuteTime": {
     "end_time": "2023-02-08T13:50:00.585511Z",
     "start_time": "2023-02-08T13:49:59.425040Z"
    }
   },
   "outputs": [
    {
     "name": "stderr",
     "output_type": "stream",
     "text": [
      "C:\\Users\\amrlo\\AppData\\Local\\Temp\\ipykernel_11944\\2794179168.py:5: UserWarning: To copy construct from a tensor, it is recommended to use sourceTensor.clone().detach() or sourceTensor.clone().detach().requires_grad_(True), rather than torch.tensor(sourceTensor).\n",
      "  prams['classes_weights'] = torch.tensor(cw,dtype=torch.float32, device=device)\n"
     ]
    },
    {
     "name": "stdout",
     "output_type": "stream",
     "text": [
      "tensor([1.0000, 1.2000, 1.3500, 1.0000, 1.0000, 1.0000, 1.3000, 1.0000],\n",
      "       device='cuda:0')\n"
     ]
    }
   ],
   "source": [
    "#(unique, counts) = np.unique(loader_train.dataset.targets, return_counts=True)\n",
    "#cw=1/counts *counts.max()\n",
    "cw = torch.tensor([1,  1.2, 1.35, 1,  1,  1.0000,  1.3,  1])\n",
    "#class_weights = {i:cwi for i,cwi in zip(unique,cw)}\n",
    "prams['classes_weights'] = torch.tensor(cw,dtype=torch.float32, device=device)\n",
    "print(prams['classes_weights'] )\n",
    "criterion = nn.CrossEntropyLoss(weight=prams['classes_weights'] , reduction=\"mean\", label_smoothing=0.01)"
   ]
  },
  {
   "cell_type": "code",
   "execution_count": 11,
   "id": "9ab63b98",
   "metadata": {
    "ExecuteTime": {
     "end_time": "2023-02-08T13:50:00.601509Z",
     "start_time": "2023-02-08T13:50:00.586508Z"
    }
   },
   "outputs": [],
   "source": [
    "#timm.list_models()"
   ]
  },
  {
   "cell_type": "markdown",
   "id": "ab222536",
   "metadata": {},
   "source": [
    "## create model "
   ]
  },
  {
   "cell_type": "code",
   "execution_count": 12,
   "id": "2d2de0da",
   "metadata": {
    "ExecuteTime": {
     "end_time": "2023-02-08T13:50:43.539385Z",
     "start_time": "2023-02-08T13:50:00.602512Z"
    }
   },
   "outputs": [
    {
     "name": "stderr",
     "output_type": "stream",
     "text": [
      "Downloading: \"https://github.com/rwightman/pytorch-image-models/releases/download/v0.1-weights/resnext50d_32x4d-103e99f8.pth\" to C:\\Users\\amrlo/.cache\\torch\\hub\\checkpoints\\resnext50d_32x4d-103e99f8.pth\n"
     ]
    },
    {
     "name": "stdout",
     "output_type": "stream",
     "text": [
      "model parameters: 23.02 M\n",
      "======================================================================\n",
      "Layer (type:depth-idx)                        Param #\n",
      "======================================================================\n",
      "ModeL                                         --\n",
      "├─ResNet: 1-1                                 --\n",
      "│    └─Sequential: 2-1                        --\n",
      "│    │    └─Conv2d: 3-1                       864\n",
      "│    │    └─BatchNorm2d: 3-2                  64\n",
      "│    │    └─ReLU: 3-3                         --\n",
      "│    │    └─Conv2d: 3-4                       9,216\n",
      "│    │    └─BatchNorm2d: 3-5                  64\n",
      "│    │    └─ReLU: 3-6                         --\n",
      "│    │    └─Conv2d: 3-7                       18,432\n",
      "│    └─BatchNorm2d: 2-2                       128\n",
      "│    └─ReLU: 2-3                              --\n",
      "│    └─MaxPool2d: 2-4                         --\n",
      "│    └─Sequential: 2-5                        --\n",
      "│    │    └─Bottleneck: 3-8                   63,488\n",
      "│    │    └─Bottleneck: 3-9                   71,168\n",
      "│    │    └─Bottleneck: 3-10                  71,168\n",
      "│    └─Sequential: 2-6                        --\n",
      "│    │    └─Bottleneck: 3-11                  349,184\n",
      "│    │    └─Bottleneck: 3-12                  282,624\n",
      "│    │    └─Bottleneck: 3-13                  282,624\n",
      "│    │    └─Bottleneck: 3-14                  282,624\n",
      "│    └─Sequential: 2-7                        --\n",
      "│    │    └─Bottleneck: 3-15                  1,390,592\n",
      "│    │    └─Bottleneck: 3-16                  1,126,400\n",
      "│    │    └─Bottleneck: 3-17                  1,126,400\n",
      "│    │    └─Bottleneck: 3-18                  1,126,400\n",
      "│    │    └─Bottleneck: 3-19                  1,126,400\n",
      "│    │    └─Bottleneck: 3-20                  1,126,400\n",
      "│    └─Sequential: 2-8                        --\n",
      "│    │    └─Bottleneck: 3-21                  5,550,080\n",
      "│    │    └─Bottleneck: 3-22                  4,497,408\n",
      "│    │    └─Bottleneck: 3-23                  4,497,408\n",
      "│    └─SelectAdaptivePool2d: 2-9              --\n",
      "│    │    └─Flatten: 3-24                     --\n",
      "│    │    └─AdaptiveAvgPool2d: 3-25           --\n",
      "│    └─Sequential: 2-10                       --\n",
      "│    │    └─Linear: 3-26                      16,392\n",
      "│    │    └─LogSoftmax: 3-27                  --\n",
      "======================================================================\n",
      "Total params: 23,015,528\n",
      "Trainable params: 23,015,528\n",
      "Non-trainable params: 0\n",
      "======================================================================\n"
     ]
    },
    {
     "data": {
      "text/plain": [
       "23.02"
      ]
     },
     "execution_count": 12,
     "metadata": {},
     "output_type": "execute_result"
    }
   ],
   "source": [
    "model =ModeL(prams['n_classes'],imagenet_weights= True)\n",
    "model.model_Info(summary= True)"
   ]
  },
  {
   "cell_type": "markdown",
   "id": "bda7f93e",
   "metadata": {},
   "source": [
    "## train for n epochs"
   ]
  },
  {
   "cell_type": "code",
   "execution_count": 13,
   "id": "cd671af2",
   "metadata": {
    "ExecuteTime": {
     "end_time": "2023-02-08T14:03:00.384840Z",
     "start_time": "2023-02-08T13:50:43.540907Z"
    },
    "scrolled": true
   },
   "outputs": [
    {
     "data": {
      "application/vnd.jupyter.widget-view+json": {
       "model_id": "d7e2e458c03446d5b9e5bec4898c78c1",
       "version_major": 2,
       "version_minor": 0
      },
      "text/plain": [
       "  0%|          | 0/230 [00:00<?, ?it/s]"
      ]
     },
     "metadata": {},
     "output_type": "display_data"
    },
    {
     "name": "stdout",
     "output_type": "stream",
     "text": [
      "[EPOCH]: 1, [LOSS]: 1.511914, [ACC]: 0.489 \n",
      "[Val_LOSS]: 1.404486, [Val_ACC]: 0.537, [Val_F1]: 0.350\n",
      "Best model on valdtion is Saved with metric :0.350\n"
     ]
    },
    {
     "data": {
      "application/vnd.jupyter.widget-view+json": {
       "model_id": "313914d8d0974a529417f497993258b0",
       "version_major": 2,
       "version_minor": 0
      },
      "text/plain": [
       "  0%|          | 0/230 [00:00<?, ?it/s]"
      ]
     },
     "metadata": {},
     "output_type": "display_data"
    },
    {
     "name": "stdout",
     "output_type": "stream",
     "text": [
      "[EPOCH]: 2, [LOSS]: 1.212174, [ACC]: 0.604 \n",
      "[Val_LOSS]: 1.218282, [Val_ACC]: 0.581, [Val_F1]: 0.506\n",
      "Best model on valdtion is Saved with metric :0.506\n"
     ]
    },
    {
     "data": {
      "application/vnd.jupyter.widget-view+json": {
       "model_id": "18141b2bc1994816aba96fcc25ed78f5",
       "version_major": 2,
       "version_minor": 0
      },
      "text/plain": [
       "  0%|          | 0/230 [00:00<?, ?it/s]"
      ]
     },
     "metadata": {},
     "output_type": "display_data"
    },
    {
     "name": "stdout",
     "output_type": "stream",
     "text": [
      "[EPOCH]: 3, [LOSS]: 1.112275, [ACC]: 0.627 \n",
      "[Val_LOSS]: 1.152087, [Val_ACC]: 0.627, [Val_F1]: 0.543\n",
      "Best model on valdtion is Saved with metric :0.543\n"
     ]
    },
    {
     "data": {
      "application/vnd.jupyter.widget-view+json": {
       "model_id": "0793237a1ebe40069551c10dca9a2f2a",
       "version_major": 2,
       "version_minor": 0
      },
      "text/plain": [
       "  0%|          | 0/230 [00:00<?, ?it/s]"
      ]
     },
     "metadata": {},
     "output_type": "display_data"
    },
    {
     "name": "stdout",
     "output_type": "stream",
     "text": [
      "[EPOCH]: 4, [LOSS]: 1.060170, [ACC]: 0.644 \n",
      "[Val_LOSS]: 1.083342, [Val_ACC]: 0.637, [Val_F1]: 0.580\n",
      "Best model on valdtion is Saved with metric :0.580\n"
     ]
    },
    {
     "data": {
      "application/vnd.jupyter.widget-view+json": {
       "model_id": "04b8c236d8ee41cf81f8f0d82036190f",
       "version_major": 2,
       "version_minor": 0
      },
      "text/plain": [
       "  0%|          | 0/230 [00:00<?, ?it/s]"
      ]
     },
     "metadata": {},
     "output_type": "display_data"
    },
    {
     "name": "stdout",
     "output_type": "stream",
     "text": [
      "[EPOCH]: 5, [LOSS]: 1.005511, [ACC]: 0.662 \n",
      "[Val_LOSS]: 1.075478, [Val_ACC]: 0.617, [Val_F1]: 0.550\n"
     ]
    },
    {
     "data": {
      "application/vnd.jupyter.widget-view+json": {
       "model_id": "7529fc5320e440c4afddff803790686b",
       "version_major": 2,
       "version_minor": 0
      },
      "text/plain": [
       "  0%|          | 0/230 [00:00<?, ?it/s]"
      ]
     },
     "metadata": {},
     "output_type": "display_data"
    },
    {
     "name": "stdout",
     "output_type": "stream",
     "text": [
      "[EPOCH]: 6, [LOSS]: 0.967493, [ACC]: 0.662 \n",
      "[Val_LOSS]: 1.049714, [Val_ACC]: 0.640, [Val_F1]: 0.565\n"
     ]
    },
    {
     "data": {
      "application/vnd.jupyter.widget-view+json": {
       "model_id": "753101a393a948e2a5a53e2e9e1ec62a",
       "version_major": 2,
       "version_minor": 0
      },
      "text/plain": [
       "  0%|          | 0/230 [00:00<?, ?it/s]"
      ]
     },
     "metadata": {},
     "output_type": "display_data"
    },
    {
     "name": "stdout",
     "output_type": "stream",
     "text": [
      "[EPOCH]: 7, [LOSS]: 0.925749, [ACC]: 0.697 \n",
      "[Val_LOSS]: 1.047994, [Val_ACC]: 0.647, [Val_F1]: 0.581\n",
      "Best model on valdtion is Saved with metric :0.581\n"
     ]
    },
    {
     "data": {
      "application/vnd.jupyter.widget-view+json": {
       "model_id": "0c36447a3d694b47868cf59f2bfaae7a",
       "version_major": 2,
       "version_minor": 0
      },
      "text/plain": [
       "  0%|          | 0/230 [00:00<?, ?it/s]"
      ]
     },
     "metadata": {},
     "output_type": "display_data"
    },
    {
     "name": "stdout",
     "output_type": "stream",
     "text": [
      "[EPOCH]: 8, [LOSS]: 0.921474, [ACC]: 0.689 \n",
      "[Val_LOSS]: 1.047734, [Val_ACC]: 0.648, [Val_F1]: 0.592\n",
      "Best model on valdtion is Saved with metric :0.592\n"
     ]
    },
    {
     "data": {
      "application/vnd.jupyter.widget-view+json": {
       "model_id": "5073611c4d0d45b585727b0f31f18eab",
       "version_major": 2,
       "version_minor": 0
      },
      "text/plain": [
       "  0%|          | 0/230 [00:00<?, ?it/s]"
      ]
     },
     "metadata": {},
     "output_type": "display_data"
    },
    {
     "name": "stdout",
     "output_type": "stream",
     "text": [
      "[EPOCH]: 9, [LOSS]: 0.906651, [ACC]: 0.688 \n",
      "[Val_LOSS]: 0.989590, [Val_ACC]: 0.664, [Val_F1]: 0.611\n",
      "Best model on valdtion is Saved with metric :0.611\n"
     ]
    },
    {
     "data": {
      "application/vnd.jupyter.widget-view+json": {
       "model_id": "061b72659b0748f3b45b47e537f9f981",
       "version_major": 2,
       "version_minor": 0
      },
      "text/plain": [
       "  0%|          | 0/230 [00:00<?, ?it/s]"
      ]
     },
     "metadata": {},
     "output_type": "display_data"
    },
    {
     "name": "stdout",
     "output_type": "stream",
     "text": [
      "[EPOCH]: 10, [LOSS]: 0.891859, [ACC]: 0.705 \n",
      "[Val_LOSS]: 0.923103, [Val_ACC]: 0.690, [Val_F1]: 0.650\n",
      "Best model on valdtion is Saved with metric :0.650\n"
     ]
    },
    {
     "data": {
      "image/png": "[encoded data removed]",
      "text/plain": [
       "<Figure size 1600x400 with 2 Axes>"
      ]
     },
     "metadata": {},
     "output_type": "display_data"
    },
    {
     "name": "stdout",
     "output_type": "stream",
     "text": [
      "Accuracy : 0.6890574214517876 ,Error:0.3109425785482124 \n"
     ]
    },
    {
     "data": {
      "image/png": "[encoded data removed]",
      "text/plain": [
       "<Figure size 1600x600 with 4 Axes>"
      ]
     },
     "metadata": {},
     "output_type": "display_data"
    },
    {
     "data": {
      "text/html": [
       "<div>\n",
       "<style scoped>\n",
       "    .dataframe tbody tr th:only-of-type {\n",
       "        vertical-align: middle;\n",
       "    }\n",
       "\n",
       "    .dataframe tbody tr th {\n",
       "        vertical-align: top;\n",
       "    }\n",
       "\n",
       "    .dataframe thead th {\n",
       "        text-align: right;\n",
       "    }\n",
       "</style>\n",
       "<table border=\"1\" class=\"dataframe\">\n",
       "  <thead>\n",
       "    <tr style=\"text-align: right;\">\n",
       "      <th></th>\n",
       "      <th>Training_Loss</th>\n",
       "      <th>Training_Accuracy</th>\n",
       "      <th>Validation_Loss</th>\n",
       "      <th>Validation_Accuracy</th>\n",
       "      <th>epoch_time</th>\n",
       "    </tr>\n",
       "  </thead>\n",
       "  <tbody>\n",
       "    <tr>\n",
       "      <th>5</th>\n",
       "      <td>0.967493</td>\n",
       "      <td>0.662228</td>\n",
       "      <td>1.049714</td>\n",
       "      <td>0.639694</td>\n",
       "      <td>72.635361</td>\n",
       "    </tr>\n",
       "    <tr>\n",
       "      <th>6</th>\n",
       "      <td>0.925749</td>\n",
       "      <td>0.697011</td>\n",
       "      <td>1.047994</td>\n",
       "      <td>0.647335</td>\n",
       "      <td>72.580671</td>\n",
       "    </tr>\n",
       "    <tr>\n",
       "      <th>7</th>\n",
       "      <td>0.921474</td>\n",
       "      <td>0.689402</td>\n",
       "      <td>1.047734</td>\n",
       "      <td>0.647923</td>\n",
       "      <td>72.677266</td>\n",
       "    </tr>\n",
       "    <tr>\n",
       "      <th>8</th>\n",
       "      <td>0.906651</td>\n",
       "      <td>0.687772</td>\n",
       "      <td>0.989590</td>\n",
       "      <td>0.663989</td>\n",
       "      <td>72.644609</td>\n",
       "    </tr>\n",
       "    <tr>\n",
       "      <th>9</th>\n",
       "      <td>0.891859</td>\n",
       "      <td>0.705435</td>\n",
       "      <td>0.923103</td>\n",
       "      <td>0.690243</td>\n",
       "      <td>72.507589</td>\n",
       "    </tr>\n",
       "  </tbody>\n",
       "</table>\n",
       "</div>"
      ],
      "text/plain": [
       "   Training_Loss  Training_Accuracy  Validation_Loss  Validation_Accuracy  \\\n",
       "5       0.967493           0.662228         1.049714             0.639694   \n",
       "6       0.925749           0.697011         1.047994             0.647335   \n",
       "7       0.921474           0.689402         1.047734             0.647923   \n",
       "8       0.906651           0.687772         0.989590             0.663989   \n",
       "9       0.891859           0.705435         0.923103             0.690243   \n",
       "\n",
       "   epoch_time  \n",
       "5   72.635361  \n",
       "6   72.580671  \n",
       "7   72.677266  \n",
       "8   72.644609  \n",
       "9   72.507589  "
      ]
     },
     "execution_count": 13,
     "metadata": {},
     "output_type": "execute_result"
    }
   ],
   "source": [
    "prams['epochs'] =10\n",
    "prams['learning_rate']= 5e-4\n",
    "\n",
    "#set_parameter_requires_grad(model, requires_grad=False)\n",
    "#set_parameter_requires_grad(model.model.classifier, requires_grad=True)\n",
    "optimizer = optim.NAdam( model.model.fc.parameters(),\n",
    "                 lr=prams['learning_rate'], betas=prams['betas'] )\n",
    "model.train_n_ep(prams['epochs'] ,loader_train,loader_val,criterion,optimizer )\n",
    "\n",
    "model.plot_history()\n",
    "_=model.model_data_monitor(loader_val, criterion)\n",
    "model.history.tail()\n"
   ]
  },
  {
   "cell_type": "code",
   "execution_count": null,
   "id": "0e176e80",
   "metadata": {
    "ExecuteTime": {
     "start_time": "2023-02-08T13:49:52.270Z"
    },
    "scrolled": true
   },
   "outputs": [
    {
     "data": {
      "application/vnd.jupyter.widget-view+json": {
       "model_id": "78e46466c6c8414c949d9da94f9dded9",
       "version_major": 2,
       "version_minor": 0
      },
      "text/plain": [
       "  0%|          | 0/230 [00:00<?, ?it/s]"
      ]
     },
     "metadata": {},
     "output_type": "display_data"
    },
    {
     "name": "stdout",
     "output_type": "stream",
     "text": [
      "[EPOCH]: 1, [LOSS]: 1.072106, [ACC]: 0.648 \n",
      "[Val_LOSS]: 1.291233, [Val_ACC]: 0.550, [Val_F1]: 0.521\n"
     ]
    },
    {
     "data": {
      "application/vnd.jupyter.widget-view+json": {
       "model_id": "6c1d119433494f3eaf9c7ccbfbd99801",
       "version_major": 2,
       "version_minor": 0
      },
      "text/plain": [
       "  0%|          | 0/230 [00:00<?, ?it/s]"
      ]
     },
     "metadata": {},
     "output_type": "display_data"
    },
    {
     "name": "stdout",
     "output_type": "stream",
     "text": [
      "[EPOCH]: 2, [LOSS]: 0.677340, [ACC]: 0.790 \n",
      "[Val_LOSS]: 1.129734, [Val_ACC]: 0.593, [Val_F1]: 0.672\n"
     ]
    },
    {
     "data": {
      "application/vnd.jupyter.widget-view+json": {
       "model_id": "3bdf0c1c2a664f639e1adc22a868a8e1",
       "version_major": 2,
       "version_minor": 0
      },
      "text/plain": [
       "  0%|          | 0/230 [00:00<?, ?it/s]"
      ]
     },
     "metadata": {},
     "output_type": "display_data"
    },
    {
     "name": "stdout",
     "output_type": "stream",
     "text": [
      "[EPOCH]: 3, [LOSS]: 0.583404, [ACC]: 0.818 \n",
      "[Val_LOSS]: 0.482189, [Val_ACC]: 0.870, [Val_F1]: 0.838\n",
      "Best model on valdtion is Saved with metric :0.838\n"
     ]
    },
    {
     "data": {
      "application/vnd.jupyter.widget-view+json": {
       "model_id": "0b695f24a86e4c868b2348aaa1120dd4",
       "version_major": 2,
       "version_minor": 0
      },
      "text/plain": [
       "  0%|          | 0/230 [00:00<?, ?it/s]"
      ]
     },
     "metadata": {},
     "output_type": "display_data"
    },
    {
     "name": "stdout",
     "output_type": "stream",
     "text": [
      "[EPOCH]: 4, [LOSS]: 0.486735, [ACC]: 0.855 \n",
      "[Val_LOSS]: 0.531916, [Val_ACC]: 0.844, [Val_F1]: 0.835\n"
     ]
    },
    {
     "data": {
      "application/vnd.jupyter.widget-view+json": {
       "model_id": "d06a675b04c64659a5c886449f1e8cf5",
       "version_major": 2,
       "version_minor": 0
      },
      "text/plain": [
       "  0%|          | 0/230 [00:00<?, ?it/s]"
      ]
     },
     "metadata": {},
     "output_type": "display_data"
    },
    {
     "name": "stdout",
     "output_type": "stream",
     "text": [
      "[EPOCH]: 5, [LOSS]: 0.437840, [ACC]: 0.870 \n",
      "[Val_LOSS]: 0.696163, [Val_ACC]: 0.785, [Val_F1]: 0.834\n"
     ]
    },
    {
     "data": {
      "application/vnd.jupyter.widget-view+json": {
       "model_id": "bec7fa8fe12b4876b7e75e440332ca03",
       "version_major": 2,
       "version_minor": 0
      },
      "text/plain": [
       "  0%|          | 0/230 [00:00<?, ?it/s]"
      ]
     },
     "metadata": {},
     "output_type": "display_data"
    },
    {
     "name": "stdout",
     "output_type": "stream",
     "text": [
      "[EPOCH]: 6, [LOSS]: 0.401382, [ACC]: 0.882 \n",
      "[Val_LOSS]: 0.472437, [Val_ACC]: 0.860, [Val_F1]: 0.848\n",
      "Best model on valdtion is Saved with metric :0.848\n"
     ]
    },
    {
     "data": {
      "application/vnd.jupyter.widget-view+json": {
       "model_id": "300031f7ea44475589594a2c41696453",
       "version_major": 2,
       "version_minor": 0
      },
      "text/plain": [
       "  0%|          | 0/230 [00:00<?, ?it/s]"
      ]
     },
     "metadata": {},
     "output_type": "display_data"
    },
    {
     "name": "stdout",
     "output_type": "stream",
     "text": [
      "[EPOCH]: 7, [LOSS]: 0.358783, [ACC]: 0.903 \n",
      "[Val_LOSS]: 0.357369, [Val_ACC]: 0.908, [Val_F1]: 0.894\n",
      "Best model on valdtion is Saved with metric :0.894\n"
     ]
    },
    {
     "data": {
      "application/vnd.jupyter.widget-view+json": {
       "model_id": "eaeb3d590c904ee48c9842b488065522",
       "version_major": 2,
       "version_minor": 0
      },
      "text/plain": [
       "  0%|          | 0/230 [00:00<?, ?it/s]"
      ]
     },
     "metadata": {},
     "output_type": "display_data"
    },
    {
     "name": "stdout",
     "output_type": "stream",
     "text": [
      "[EPOCH]: 8, [LOSS]: 0.338594, [ACC]: 0.904 \n",
      "[Val_LOSS]: 0.415094, [Val_ACC]: 0.870, [Val_F1]: 0.857\n"
     ]
    },
    {
     "data": {
      "application/vnd.jupyter.widget-view+json": {
       "model_id": "e352c370b8114ae3895a8ba0368e5521",
       "version_major": 2,
       "version_minor": 0
      },
      "text/plain": [
       "  0%|          | 0/230 [00:00<?, ?it/s]"
      ]
     },
     "metadata": {},
     "output_type": "display_data"
    },
    {
     "name": "stdout",
     "output_type": "stream",
     "text": [
      "[EPOCH]: 9, [LOSS]: 0.328403, [ACC]: 0.918 \n",
      "[Val_LOSS]: 0.349983, [Val_ACC]: 0.917, [Val_F1]: 0.909\n",
      "Best model on valdtion is Saved with metric :0.909\n"
     ]
    },
    {
     "data": {
      "application/vnd.jupyter.widget-view+json": {
       "model_id": "0409adfd28b24a9990639c83c27de41d",
       "version_major": 2,
       "version_minor": 0
      },
      "text/plain": [
       "  0%|          | 0/230 [00:00<?, ?it/s]"
      ]
     },
     "metadata": {},
     "output_type": "display_data"
    },
    {
     "name": "stdout",
     "output_type": "stream",
     "text": [
      "[EPOCH]: 10, [LOSS]: 0.319819, [ACC]: 0.920 \n",
      "[Val_LOSS]: 0.300392, [Val_ACC]: 0.920, [Val_F1]: 0.918\n",
      "Best model on valdtion is Saved with metric :0.918\n"
     ]
    },
    {
     "data": {
      "application/vnd.jupyter.widget-view+json": {
       "model_id": "2c562d952fd44f6eb83d17a35d0f79b8",
       "version_major": 2,
       "version_minor": 0
      },
      "text/plain": [
       "  0%|          | 0/230 [00:00<?, ?it/s]"
      ]
     },
     "metadata": {},
     "output_type": "display_data"
    },
    {
     "name": "stdout",
     "output_type": "stream",
     "text": [
      "[EPOCH]: 11, [LOSS]: 0.268943, [ACC]: 0.931 \n",
      "[Val_LOSS]: 0.361691, [Val_ACC]: 0.901, [Val_F1]: 0.897\n"
     ]
    },
    {
     "data": {
      "application/vnd.jupyter.widget-view+json": {
       "model_id": "755eda26e10a457c93081680e5d73972",
       "version_major": 2,
       "version_minor": 0
      },
      "text/plain": [
       "  0%|          | 0/230 [00:00<?, ?it/s]"
      ]
     },
     "metadata": {},
     "output_type": "display_data"
    },
    {
     "name": "stdout",
     "output_type": "stream",
     "text": [
      "[EPOCH]: 12, [LOSS]: 0.269801, [ACC]: 0.938 \n",
      "[Val_LOSS]: 0.293940, [Val_ACC]: 0.934, [Val_F1]: 0.930\n",
      "Best model on valdtion is Saved with metric :0.930\n"
     ]
    },
    {
     "data": {
      "application/vnd.jupyter.widget-view+json": {
       "model_id": "564e31c01d2a47c0bfecdcc413ba689d",
       "version_major": 2,
       "version_minor": 0
      },
      "text/plain": [
       "  0%|          | 0/230 [00:00<?, ?it/s]"
      ]
     },
     "metadata": {},
     "output_type": "display_data"
    },
    {
     "name": "stdout",
     "output_type": "stream",
     "text": [
      "[EPOCH]: 13, [LOSS]: 0.246064, [ACC]: 0.944 \n",
      "[Val_LOSS]: 0.439999, [Val_ACC]: 0.870, [Val_F1]: 0.862\n"
     ]
    },
    {
     "data": {
      "application/vnd.jupyter.widget-view+json": {
       "model_id": "6df3a45312ff4d689ee80b8e228f2a46",
       "version_major": 2,
       "version_minor": 0
      },
      "text/plain": [
       "  0%|          | 0/230 [00:00<?, ?it/s]"
      ]
     },
     "metadata": {},
     "output_type": "display_data"
    },
    {
     "name": "stdout",
     "output_type": "stream",
     "text": [
      "[EPOCH]: 14, [LOSS]: 0.262315, [ACC]: 0.937 \n",
      "[Val_LOSS]: 0.359757, [Val_ACC]: 0.917, [Val_F1]: 0.916\n"
     ]
    },
    {
     "data": {
      "application/vnd.jupyter.widget-view+json": {
       "model_id": "c35d875a9f4d491ab60d834627f0f01f",
       "version_major": 2,
       "version_minor": 0
      },
      "text/plain": [
       "  0%|          | 0/230 [00:00<?, ?it/s]"
      ]
     },
     "metadata": {},
     "output_type": "display_data"
    },
    {
     "name": "stdout",
     "output_type": "stream",
     "text": [
      "[EPOCH]: 15, [LOSS]: 0.246442, [ACC]: 0.945 \n",
      "[Val_LOSS]: 0.583450, [Val_ACC]: 0.865, [Val_F1]: 0.851\n"
     ]
    },
    {
     "data": {
      "application/vnd.jupyter.widget-view+json": {
       "model_id": "df0a86cc776947d7843904d768197adb",
       "version_major": 2,
       "version_minor": 0
      },
      "text/plain": [
       "  0%|          | 0/230 [00:00<?, ?it/s]"
      ]
     },
     "metadata": {},
     "output_type": "display_data"
    },
    {
     "name": "stdout",
     "output_type": "stream",
     "text": [
      "[EPOCH]: 16, [LOSS]: 0.228767, [ACC]: 0.951 \n",
      "[Val_LOSS]: 0.363890, [Val_ACC]: 0.922, [Val_F1]: 0.924\n"
     ]
    },
    {
     "data": {
      "application/vnd.jupyter.widget-view+json": {
       "model_id": "5768ebbfebfa48ae849112d775f12954",
       "version_major": 2,
       "version_minor": 0
      },
      "text/plain": [
       "  0%|          | 0/230 [00:00<?, ?it/s]"
      ]
     },
     "metadata": {},
     "output_type": "display_data"
    },
    {
     "name": "stdout",
     "output_type": "stream",
     "text": [
      "[EPOCH]: 17, [LOSS]: 0.240908, [ACC]: 0.946 \n",
      "[Val_LOSS]: 0.387790, [Val_ACC]: 0.904, [Val_F1]: 0.879\n"
     ]
    },
    {
     "data": {
      "application/vnd.jupyter.widget-view+json": {
       "model_id": "89abed58cffc406aac228abe65306082",
       "version_major": 2,
       "version_minor": 0
      },
      "text/plain": [
       "  0%|          | 0/230 [00:00<?, ?it/s]"
      ]
     },
     "metadata": {},
     "output_type": "display_data"
    },
    {
     "name": "stdout",
     "output_type": "stream",
     "text": [
      "[EPOCH]: 18, [LOSS]: 0.232768, [ACC]: 0.950 \n",
      "[Val_LOSS]: 0.314031, [Val_ACC]: 0.919, [Val_F1]: 0.920\n"
     ]
    },
    {
     "data": {
      "application/vnd.jupyter.widget-view+json": {
       "model_id": "a5ff583a14b64048add6626bf471a0d3",
       "version_major": 2,
       "version_minor": 0
      },
      "text/plain": [
       "  0%|          | 0/230 [00:00<?, ?it/s]"
      ]
     },
     "metadata": {},
     "output_type": "display_data"
    },
    {
     "name": "stdout",
     "output_type": "stream",
     "text": [
      "[EPOCH]: 19, [LOSS]: 0.200742, [ACC]: 0.959 \n",
      "[Val_LOSS]: 0.291692, [Val_ACC]: 0.925, [Val_F1]: 0.928\n"
     ]
    },
    {
     "data": {
      "application/vnd.jupyter.widget-view+json": {
       "model_id": "672751d32c75483babe90c9bcde3602d",
       "version_major": 2,
       "version_minor": 0
      },
      "text/plain": [
       "  0%|          | 0/230 [00:00<?, ?it/s]"
      ]
     },
     "metadata": {},
     "output_type": "display_data"
    },
    {
     "name": "stdout",
     "output_type": "stream",
     "text": [
      "[EPOCH]: 20, [LOSS]: 0.198667, [ACC]: 0.967 \n",
      "[Val_LOSS]: 0.455219, [Val_ACC]: 0.866, [Val_F1]: 0.878\n"
     ]
    },
    {
     "data": {
      "application/vnd.jupyter.widget-view+json": {
       "model_id": "a10674929d3a4aaea48861776044c649",
       "version_major": 2,
       "version_minor": 0
      },
      "text/plain": [
       "  0%|          | 0/230 [00:00<?, ?it/s]"
      ]
     },
     "metadata": {},
     "output_type": "display_data"
    },
    {
     "name": "stdout",
     "output_type": "stream",
     "text": [
      "[EPOCH]: 21, [LOSS]: 0.213877, [ACC]: 0.956 \n",
      "[Val_LOSS]: 0.324131, [Val_ACC]: 0.926, [Val_F1]: 0.926\n"
     ]
    },
    {
     "data": {
      "application/vnd.jupyter.widget-view+json": {
       "model_id": "7cc8c9665e8d40cb9b8d65bc4db31c8a",
       "version_major": 2,
       "version_minor": 0
      },
      "text/plain": [
       "  0%|          | 0/230 [00:00<?, ?it/s]"
      ]
     },
     "metadata": {},
     "output_type": "display_data"
    },
    {
     "name": "stdout",
     "output_type": "stream",
     "text": [
      "[EPOCH]: 22, [LOSS]: 0.208542, [ACC]: 0.960 \n",
      "[Val_LOSS]: 0.320130, [Val_ACC]: 0.925, [Val_F1]: 0.928\n"
     ]
    },
    {
     "data": {
      "application/vnd.jupyter.widget-view+json": {
       "model_id": "c0b70a516d384f829da828a3c2c6c4a1",
       "version_major": 2,
       "version_minor": 0
      },
      "text/plain": [
       "  0%|          | 0/230 [00:00<?, ?it/s]"
      ]
     },
     "metadata": {},
     "output_type": "display_data"
    },
    {
     "name": "stdout",
     "output_type": "stream",
     "text": [
      "[EPOCH]: 23, [LOSS]: 0.187433, [ACC]: 0.965 \n",
      "[Val_LOSS]: 0.280004, [Val_ACC]: 0.940, [Val_F1]: 0.937\n",
      "Best model on valdtion is Saved with metric :0.937\n"
     ]
    },
    {
     "data": {
      "application/vnd.jupyter.widget-view+json": {
       "model_id": "65b2a698cfd543f6b26d13e11ca1db30",
       "version_major": 2,
       "version_minor": 0
      },
      "text/plain": [
       "  0%|          | 0/230 [00:00<?, ?it/s]"
      ]
     },
     "metadata": {},
     "output_type": "display_data"
    },
    {
     "name": "stdout",
     "output_type": "stream",
     "text": [
      "[EPOCH]: 24, [LOSS]: 0.187680, [ACC]: 0.965 \n",
      "[Val_LOSS]: 0.317957, [Val_ACC]: 0.927, [Val_F1]: 0.920\n"
     ]
    },
    {
     "data": {
      "application/vnd.jupyter.widget-view+json": {
       "model_id": "5c47cc077afc42daad6f1ee9f33ebf2a",
       "version_major": 2,
       "version_minor": 0
      },
      "text/plain": [
       "  0%|          | 0/230 [00:00<?, ?it/s]"
      ]
     },
     "metadata": {},
     "output_type": "display_data"
    },
    {
     "name": "stdout",
     "output_type": "stream",
     "text": [
      "[EPOCH]: 25, [LOSS]: 0.180558, [ACC]: 0.967 \n",
      "[Val_LOSS]: 0.305110, [Val_ACC]: 0.925, [Val_F1]: 0.929\n"
     ]
    },
    {
     "data": {
      "application/vnd.jupyter.widget-view+json": {
       "model_id": "84c8e0ea55364af199fe206c57ac2ba6",
       "version_major": 2,
       "version_minor": 0
      },
      "text/plain": [
       "  0%|          | 0/230 [00:00<?, ?it/s]"
      ]
     },
     "metadata": {},
     "output_type": "display_data"
    },
    {
     "name": "stdout",
     "output_type": "stream",
     "text": [
      "[EPOCH]: 26, [LOSS]: 0.171414, [ACC]: 0.972 \n",
      "[Val_LOSS]: 0.386654, [Val_ACC]: 0.915, [Val_F1]: 0.915\n"
     ]
    },
    {
     "data": {
      "application/vnd.jupyter.widget-view+json": {
       "model_id": "c8d82c7feb8a44b582f295886f1fca54",
       "version_major": 2,
       "version_minor": 0
      },
      "text/plain": [
       "  0%|          | 0/230 [00:00<?, ?it/s]"
      ]
     },
     "metadata": {},
     "output_type": "display_data"
    },
    {
     "name": "stdout",
     "output_type": "stream",
     "text": [
      "[EPOCH]: 27, [LOSS]: 0.178304, [ACC]: 0.968 \n",
      "[Val_LOSS]: 0.289287, [Val_ACC]: 0.936, [Val_F1]: 0.932\n"
     ]
    },
    {
     "data": {
      "application/vnd.jupyter.widget-view+json": {
       "model_id": "2ffc3396abfe4f65815fe6c4cb8eadb5",
       "version_major": 2,
       "version_minor": 0
      },
      "text/plain": [
       "  0%|          | 0/230 [00:00<?, ?it/s]"
      ]
     },
     "metadata": {},
     "output_type": "display_data"
    },
    {
     "name": "stdout",
     "output_type": "stream",
     "text": [
      "[EPOCH]: 28, [LOSS]: 0.169532, [ACC]: 0.974 \n",
      "[Val_LOSS]: 0.311401, [Val_ACC]: 0.928, [Val_F1]: 0.921\n"
     ]
    },
    {
     "data": {
      "application/vnd.jupyter.widget-view+json": {
       "model_id": "f9bda5af5ca5414d927ef54fd863f868",
       "version_major": 2,
       "version_minor": 0
      },
      "text/plain": [
       "  0%|          | 0/230 [00:00<?, ?it/s]"
      ]
     },
     "metadata": {},
     "output_type": "display_data"
    },
    {
     "name": "stdout",
     "output_type": "stream",
     "text": [
      "[EPOCH]: 29, [LOSS]: 0.155499, [ACC]: 0.976 \n",
      "[Val_LOSS]: 0.376440, [Val_ACC]: 0.924, [Val_F1]: 0.924\n"
     ]
    },
    {
     "data": {
      "application/vnd.jupyter.widget-view+json": {
       "model_id": "a485fe8a2fd44047a326dc9577d6869a",
       "version_major": 2,
       "version_minor": 0
      },
      "text/plain": [
       "  0%|          | 0/230 [00:00<?, ?it/s]"
      ]
     },
     "metadata": {},
     "output_type": "display_data"
    }
   ],
   "source": [
    "prams['epochs'] =30\n",
    "prams['learning_rate']= 1e-3\n",
    "\n",
    "#set_parameter_requires_grad(model, requires_grad=False)\n",
    "#set_parameter_requires_grad(model.model.classifier, requires_grad=True)\n",
    "optimizer = optim.NAdam( model.model.parameters(),\n",
    "                 lr=prams['learning_rate'], betas=prams['betas'] )\n",
    "model.train_n_ep(prams['epochs'] ,loader_train,loader_val,criterion,optimizer )\n",
    "\n",
    "model.plot_history()\n",
    "_=model.model_data_monitor(loader_val, criterion)\n",
    "model.history.tail()\n"
   ]
  },
  {
   "cell_type": "code",
   "execution_count": null,
   "id": "180f079a",
   "metadata": {
    "ExecuteTime": {
     "end_time": "2023-02-08T12:39:30.045848Z",
     "start_time": "2023-02-08T12:39:30.045848Z"
    },
    "scrolled": true
   },
   "outputs": [],
   "source": []
  },
  {
   "cell_type": "markdown",
   "id": "c2afbf84",
   "metadata": {},
   "source": [
    "## Monitor loss and acc per epoch"
   ]
  },
  {
   "cell_type": "code",
   "execution_count": null,
   "id": "8dc0ec8a",
   "metadata": {
    "ExecuteTime": {
     "start_time": "2023-02-08T13:49:52.297Z"
    }
   },
   "outputs": [],
   "source": [
    "model.plot_history()\n",
    "_=model.model_data_monitor(loader_val, criterion)"
   ]
  },
  {
   "cell_type": "code",
   "execution_count": null,
   "id": "3b320b4a",
   "metadata": {
    "ExecuteTime": {
     "start_time": "2023-02-08T13:49:52.300Z"
    }
   },
   "outputs": [],
   "source": [
    "model.Load_Weights('Best_model_on_valdtion.pt')\n",
    "model.plot_history()\n",
    "_=model.model_data_monitor(loader_val, criterion)"
   ]
  },
  {
   "cell_type": "code",
   "execution_count": null,
   "id": "8737e5ad",
   "metadata": {
    "ExecuteTime": {
     "start_time": "2023-02-08T13:49:52.302Z"
    }
   },
   "outputs": [],
   "source": [
    "c= ''\n",
    "add_Experiment(model, prams,optimizer,criterion,loader_val,transform_trian,transform_val,c,False)\n",
    "#delet_Experiment('Exp_amr000000')"
   ]
  },
  {
   "cell_type": "code",
   "execution_count": null,
   "id": "a691e08d",
   "metadata": {
    "ExecuteTime": {
     "end_time": "2023-02-07T17:54:30.607594Z",
     "start_time": "2023-02-07T17:54:30.594401Z"
    }
   },
   "outputs": [],
   "source": []
  },
  {
   "cell_type": "code",
   "execution_count": null,
   "id": "22afed3e",
   "metadata": {},
   "outputs": [],
   "source": []
  }
 ],
 "metadata": {
  "kernelspec": {
   "display_name": "Python [conda env:pt] *",
   "language": "python",
   "name": "conda-env-pt-py"
  },
  "language_info": {
   "codemirror_mode": {
    "name": "ipython",
    "version": 3
   },
   "file_extension": ".py",
   "mimetype": "text/x-python",
   "name": "python",
   "nbconvert_exporter": "python",
   "pygments_lexer": "ipython3",
   "version": "3.9.13"
  },
  "toc": {
   "base_numbering": 1,
   "nav_menu": {},
   "number_sections": true,
   "sideBar": true,
   "skip_h1_title": false,
   "title_cell": "Table of Contents",
   "title_sidebar": "Contents",
   "toc_cell": false,
   "toc_position": {
    "height": "calc(100% - 180px)",
    "left": "10px",
    "top": "150px",
    "width": "165px"
   },
   "toc_section_display": true,
   "toc_window_display": false
  },
  "varInspector": {
   "cols": {
    "lenName": 16,
    "lenType": 16,
    "lenVar": 40
   },
   "kernels_config": {
    "python": {
     "delete_cmd_postfix": "",
     "delete_cmd_prefix": "del ",
     "library": "var_list.py",
     "varRefreshCmd": "print(var_dic_list())"
    },
    "r": {
     "delete_cmd_postfix": ") ",
     "delete_cmd_prefix": "rm(",
     "library": "var_list.r",
     "varRefreshCmd": "cat(var_dic_list()) "
    }
   },
   "oldHeight": 415.844,
   "position": {
    "height": "437.844px",
    "left": "1005px",
    "right": "20px",
    "top": "121px",
    "width": "322px"
   },
   "types_to_exclude": [
    "module",
    "function",
    "builtin_function_or_method",
    "instance",
    "_Feature"
   ],
   "varInspector_section_display": "block",
   "window_display": false
  }
 },
 "nbformat": 4,
 "nbformat_minor": 5
}
